{
 "cells": [
  {
   "cell_type": "markdown",
   "metadata": {},
   "source": [
    "# DSCI 512 Lab 1"
   ]
  },
  {
   "cell_type": "markdown",
   "metadata": {},
   "source": [
    "### Exercise 1 - searching in arrays\n",
    "rubric={code:8,reasoning:5}\n",
    "\n",
    "1. Write a Python function `search_unsorted` that takes in an unsorted list/array and a value, and searches to see if that value is in the array. You should use a loop to do this.\n",
    "2. Write a Python function `search_sorted` that takes in an _sorted_ list/array and a value, and searches to see if that value is in the array. Use binary search for this.\n",
    "3. What is the time complexity of these two operations? Answer in big-O notation. You can use LaTeX directly within Markdown here, to write equations. For example, $\\mathcal{O}(n^3)$ is written as `$\\mathcal{O}(n^3)$`.\n",
    "4. Test your answer above empirically. Some further info:\n",
    "   * Generate the array with random integers between 0 and $10^7$ using `numpy.random.randint` \n",
    "   * check to see if the number 999 is in the array\n",
    "   * To sort the array, use `array.sort()`\n",
    "   * To time a line of code, you can use `timeit`. An example is given below.\n",
    "   * Use array sizes $10^2$, $10^3$, $10^4$, $10^5$, $10^6$, and $10^7$\n",
    "   * Present your results in a Markdown table. A skeleton of the table is given below\n",
    "5. Python already has syntax for checking whether an array contains a particular value. The syntax is `key in data`. Empirically measure the speed of this method and compare it with your two functions. Try to explain your observations.\n",
    "6. (Optional) For an array of size $N$ containing random integers from $0$ to $N-1$ (inclusive), what is the probability that the array contains the number $999$, as a function of $N$?"
   ]
  },
  {
   "cell_type": "code",
   "execution_count": null,
   "metadata": {
    "collapsed": true
   },
   "outputs": [],
   "source": [
    "def search_unsorted(data, key):\n",
    "    for element in data:\n",
    "        pass  # your code here"
   ]
  },
  {
   "cell_type": "code",
   "execution_count": null,
   "metadata": {
    "collapsed": true
   },
   "outputs": [],
   "source": [
    "def search_sorted(data, key):\n",
    "    pass  # your code here"
   ]
  },
  {
   "cell_type": "code",
   "execution_count": null,
   "metadata": {
    "collapsed": true
   },
   "outputs": [],
   "source": [
    "# Example of generating random integers and timing code with timeit\n",
    "import numpy.random as npr\n",
    "x = npr.randint(10000000, size=10000000)\n",
    "print(x)\n",
    "%timeit search_unsorted(x, 999)"
   ]
  },
  {
   "cell_type": "markdown",
   "metadata": {},
   "source": [
    "My results:\n",
    "\n",
    "| Array size |  Time spent when unsorted | Time spent when sorted | Time spent by Python's `in` |\n",
    "|------------|---------------------------|------------------------|-----------------------------|\n",
    "| $10^4$     |                           |                        |                             |\n",
    "| $10^5$     |                           |                        |                             |\n",
    "| $10^6$     |                           |                        |                             |\n",
    "| $10^7$     |                           |                        |                             |"
   ]
  },
  {
   "cell_type": "markdown",
   "metadata": {},
   "source": [
    "### Exercise 2 - symbol tables / hashing\n",
    "rubric={reasoning:2}\n",
    "\n",
    "Write a few sentences explaining:\n",
    "\n",
    "1. What makes a good or bad hash function. \n",
    "2. Why hash tables are useful."
   ]
  },
  {
   "cell_type": "markdown",
   "metadata": {},
   "source": [
    "### Exercise 3 - More practice with complexity\n",
    "rubric={reasoning:8}\n",
    "\n",
    "For each of the following functions, determine the time complexity AND memory complexity, as a function of the input $N$. If you get stuck, it's fair game to test things empirically and then try to understand what you observe. **Please state your assumptions if you don’t know how long some operation in Python takes.** \n",
    "\n",
    "You can refer to [this](https://wiki.python.org/moin/TimeComplexity) link where you can find the time-complexity of various operations. It is not necessary to refer to this link. You can also have your own reasonable assumptions. \n",
    "\n",
    "The first question is done for you, as an example."
   ]
  },
  {
   "cell_type": "code",
   "execution_count": 1,
   "metadata": {
    "collapsed": true
   },
   "outputs": [],
   "source": [
    "def test(N):\n",
    "    for i in range(N):\n",
    "        print(i)\n",
    "        print(i**2)\n",
    "        x = 9\n",
    "        y = 10"
   ]
  },
  {
   "cell_type": "markdown",
   "metadata": {},
   "source": [
    "_Sample answer_\n",
    "\n",
    "The time complexity of `test` is  $O(N)$ because of the loop\n",
    "\n",
    "The memory complexity of `test` is $O(1)$ because we store a constant amount (independent of $N$) "
   ]
  },
  {
   "cell_type": "code",
   "execution_count": null,
   "metadata": {
    "collapsed": true
   },
   "outputs": [],
   "source": [
    "def bar(N):\n",
    "    i = 0\n",
    "    while i < N:\n",
    "        j = 0\n",
    "        while j < N:\n",
    "            j = j + 1\n",
    "        i = i + 1"
   ]
  },
  {
   "cell_type": "code",
   "execution_count": null,
   "metadata": {
    "collapsed": true
   },
   "outputs": [],
   "source": [
    "def foo(N):\n",
    "    i = 0\n",
    "    j = 0\n",
    "    while i < N:\n",
    "        while j < N:\n",
    "            j = j + 1\n",
    "        i = i + 1"
   ]
  },
  {
   "cell_type": "code",
   "execution_count": null,
   "metadata": {
    "collapsed": true
   },
   "outputs": [],
   "source": [
    "def bat(N):\n",
    "    return \"A\"*N"
   ]
  },
  {
   "cell_type": "code",
   "execution_count": null,
   "metadata": {
    "collapsed": true
   },
   "outputs": [],
   "source": [
    "def oh(N):\n",
    "    i = 0\n",
    "    while i < N:\n",
    "        i = i + 1"
   ]
  },
  {
   "cell_type": "code",
   "execution_count": null,
   "metadata": {
    "collapsed": true
   },
   "outputs": [],
   "source": [
    "def oh_no(N):\n",
    "    i = 0\n",
    "    while i < N:\n",
    "        i = i - 1"
   ]
  },
  {
   "cell_type": "code",
   "execution_count": null,
   "metadata": {
    "collapsed": true
   },
   "outputs": [],
   "source": [
    "import numpy as np\n",
    "def ban(N):\n",
    "    x = np.zeros(N)\n",
    "    x = x * 1000\n",
    "    return x"
   ]
  },
  {
   "cell_type": "code",
   "execution_count": null,
   "metadata": {
    "collapsed": true
   },
   "outputs": [],
   "source": [
    "import numpy as np\n",
    "def bam(N):\n",
    "    x = np.zeros(1000)\n",
    "    x = x * N\n",
    "    return x"
   ]
  },
  {
   "cell_type": "code",
   "execution_count": 6,
   "metadata": {
    "collapsed": true
   },
   "outputs": [],
   "source": [
    "def wham(N):\n",
    "    x = []\n",
    "    for i in range(N):\n",
    "        print(i)\n",
    "        x.append(i**i)\n",
    "    return x"
   ]
  },
  {
   "cell_type": "code",
   "execution_count": null,
   "metadata": {
    "collapsed": true
   },
   "outputs": [],
   "source": [
    "import numpy as np\n",
    "def slam(N):\n",
    "    x = dict()\n",
    "    for i in range(N):\n",
    "        x['key is %d' % i] = np.zeros(N)\n",
    "    return x"
   ]
  },
  {
   "cell_type": "code",
   "execution_count": null,
   "metadata": {
    "collapsed": true
   },
   "outputs": [],
   "source": [
    "import numpy as np\n",
    "def rainbow(N):\n",
    "    x = dict()\n",
    "    array = np.zeros(N)\n",
    "    for i in range(N):\n",
    "        x['key is %d' % i] = array\n",
    "    return x"
   ]
  }
 ],
 "metadata": {
  "anaconda-cloud": {},
  "kernelspec": {
   "display_name": "Python [conda root]",
   "language": "python",
   "name": "conda-root-py"
  },
  "language_info": {
   "codemirror_mode": {
    "name": "ipython",
    "version": 3
   },
   "file_extension": ".py",
   "mimetype": "text/x-python",
   "name": "python",
   "nbconvert_exporter": "python",
   "pygments_lexer": "ipython3",
   "version": "3.5.2"
  }
 },
 "nbformat": 4,
 "nbformat_minor": 1
}
