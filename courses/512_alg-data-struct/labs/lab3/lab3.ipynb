{
 "cells": [
  {
   "cell_type": "markdown",
   "metadata": {},
   "source": [
    "# DSCI 512 Lab 3 - graphs\n",
    "<!-- rubric={mechanics:2} -->\n",
    "\n",
    "##### Representing a social network as a graph\n",
    "\n",
    "A graph or network represents relationships among things. The things are represented as _vertices_ (aka _nodes_), and the relationships are represented as _edges_.\n",
    "\n",
    "One common use for a graph is to represent travel possibilities, such as on a road map or airline map. The nodes of the graph are cities, and the edges show which cities are directly connected. Then, you can use the graph to plan travel. The graph below represents the social network in Romeo & Juliet.\n",
    "\n",
    "![](romeo-and-juliet-undirected.png)\n",
    "\n",
    "An edge between person A and person B means that A considers B a friend, and also B considers A a friend.\n",
    "\n",
    "This graph is unable to represent certain information. For example, Count Paris wishes to wed Juliet, but she does not reciprocate his affection. To represent this, we would need a _directed graph_. You do not need to worry about this for this assignment; in any case; social network sites like Facebook do not represent this information either. (Some other social networking sites, such as Twitter and Google+, do permit one-way links.)\n",
    "\n",
    "In the image above, ignore the gray background and the labels for the families (\"houses\"); those are there just to help you interpret the graph but are not part of the social network itself.\n",
    "\n",
    "##### Distance\n",
    "\n",
    "One interesting measure in a social network graph is the \"distance\" or number of \"degrees of separation\" between two people. This notion is used in academic research via the [Erdős number](https://en.wikipedia.org/wiki/Erd%C5%91s_number) and in the film industry via the [Bacon number](https://en.wikipedia.org/wiki/Six_Degrees_of_Kevin_Bacon#Bacon_numbers). For example, in the above graph, the distance between Juliet and Romeo is 1, and the distance between Juliet and Paris is 2 (via Capulet).\n",
    "\n",
    "##### Representing a graph in Python\n",
    "\n",
    "We will use the [NetworkX](http://networkx.github.io/) library to represent a graph in Python. We suggest you work through the [NetworkX tutorial](https://networkx.github.io/documentation/networkx-1.10/tutorial/index.html), up to and including the \"Accessing edges\" section - but it is not required. If you haven't done the tutorial and get stuck on NetworkX, please consult the tutorial before coming to us!"
   ]
  },
  {
   "cell_type": "markdown",
   "metadata": {},
   "source": [
    "### Exercise 1: A small practice graph\n",
    "<!-- rubric={code:2,mechanics:1} -->\n",
    "\n",
    "It is always a good idea to test your code on a dataset that is small enough for you to manually compute the results. You will create two such datasets for testing.\n",
    "\n",
    "\n",
    "![Imaginary social network](practice_graph.png)\n",
    "\n",
    "Create the above graph in NetworkX, and store it in a variable named `practice_graph`.\n",
    "\n",
    "Use the `Graph` class (not `DiGraph`, `MultiGraph`, or `MultiDiGraph`). Review its documentation before you begin.\n",
    "\n",
    "To help you verify that your graph is correct, the provided code draws the graph to a window. Compare your graph to the figure above. The nodes may appear in different locations; that's fine so long as the same nodes exist and they are connected in the same way by the edges.\n"
   ]
  },
  {
   "cell_type": "code",
   "execution_count": null,
   "metadata": {},
   "outputs": [],
   "source": [
    "import networkx as nx\n",
    "import matplotlib.pyplot as plt\n",
    "%matplotlib inline\n",
    "import random\n",
    "\n",
    "practice_graph = nx.Graph()\n",
    "\n",
    "practice_graph.add_node(\"A\")\n",
    "practice_graph.add_node(\"B\")\n",
    "practice_graph.add_node(\"C\")\n",
    "# your additional code goes here\n",
    "\n",
    "practice_graph.add_edge(\"A\", \"B\")\n",
    "practice_graph.add_edge(\"A\", \"C\")\n",
    "practice_graph.add_edge(\"B\", \"C\")\n",
    "# your additional code goes here\n",
    "\n",
    "assert len(practice_graph.nodes()) == 6\n",
    "assert len(practice_graph.edges()) == 8\n",
    "\n",
    "def draw_practice_graph():\n",
    "    \"\"\"Draw practice_graph to the screen.\"\"\"\n",
    "    nx.draw(practice_graph, with_labels=True)\n",
    "    plt.show()\n",
    "\n",
    "# Comment out this line after you have visually verified your practice graph.\n",
    "# Otherwise, the picture will pop up every time that you run your program.\n",
    "draw_practice_graph()\n"
   ]
  },
  {
   "cell_type": "markdown",
   "metadata": {},
   "source": [
    "### Exercise 2 : The Romeo and Juliet graph\n",
    "<!-- rubric={code:2} -->\n",
    "\n",
    "Create a graph named `rj` corresponding to the Romeo and Juliet graph above (ignoring the shaded family/house information). The nodes may appear in different locations; that's fine so long as the same nodes exist and they are connected in the same way by the edges.\n"
   ]
  },
  {
   "cell_type": "code",
   "execution_count": null,
   "metadata": {
    "collapsed": true
   },
   "outputs": [],
   "source": [
    "# code goes here"
   ]
  },
  {
   "cell_type": "markdown",
   "metadata": {},
   "source": [
    "### Exercise 3: computing degrees of separation with BFS\n",
    "<!-- rubric={code:6,reasoning:1} -->\n",
    "\n",
    "Write a function `distance_BFS` that takes in a graph and two nodes, and uses breadth-first search (BFS) to compute the degrees of separation between the two nodes. What happens if the two nodes are not connected at all?"
   ]
  },
  {
   "cell_type": "code",
   "execution_count": null,
   "metadata": {
    "collapsed": true
   },
   "outputs": [],
   "source": [
    "# write documentation here\n",
    "def distance_BFS(g, node1, node2):\n",
    "    pass\n",
    "    # code goes here"
   ]
  },
  {
   "cell_type": "markdown",
   "metadata": {},
   "source": [
    "### Exercise 4: Using Facebook data\n",
    "<!-- rubric={mechanics:2,code:1,reasoning:2} -->\n",
    "\n",
    "We will use some Facebook data, which is the file `facebook-links.txt` in the `data` directory of the `DSCI_512_alg-data-struct_students` repository. \n",
    "\n",
    "Create a graph named facebook from the Facebook data in file facebook-links.txt. As above, use the Graph class.\n",
    "\n",
    "Print the number of nodes and the number of edges in your facebook graph. The output should be:\n",
    "\n",
    "```\n",
    "Facebook nodes: 63731\n",
    "Facebook edges: 817090\n",
    "```\n",
    "\n",
    "The `facebook-links.txt` file is courtesy of the Max Planck Institute for Software Systems. Here is a slightly clarified version of the documentation for this file:\n",
    "\n",
    "File `facebook-links.txt` contains a list of all of the user-to-user links from the Facebook New Orleans networks. These links are undirected on Facebook.\n",
    "\n",
    "Format: Each line contains two numeric user identifiers, meaning the second user appeared in the first user's friend list, and the first user appeared in the second user's friend list. Finally, the third column is a UNIX timestamp with the time of link establishment (if it could be determined, otherwise it is '\\N'). Note: a Unix timestamp is the number of seconds since January 1, 1970. You may ignore it in this assignment. \n",
    "\n",
    "Don't be alarmed if reading the Facebook data takes a little while. The file is large, and reading it may take up to a minute. However, do not try to draw the Facebook graph. This may cause your computer to hang, and even if it were successful, you would not learn much from a tangled mess of 817,090 edges.\n",
    "\n",
    "Next, try out your BFS distance functions for various pairs of nodes. Report time your code takes for a few cases. How do your empirical observations compare with your predictions?\n"
   ]
  },
  {
   "cell_type": "code",
   "execution_count": null,
   "metadata": {},
   "outputs": [],
   "source": [
    "# code goes here\n",
    "\n",
    "assert len(facebook.nodes()) == 63731\n",
    "assert len(facebook.edges()) == 817090\n",
    "\n",
    "# more code here"
   ]
  },
  {
   "cell_type": "markdown",
   "metadata": {},
   "source": [
    "### Exercise 5: sparse representations\n",
    "<!-- rubric={reasoning:2,code:1} -->\n",
    "\n",
    "The `networkx` library can also [be used to give you the adjacency matrix of the graph](https://networkx.github.io/documentation/networkx-1.9/reference/generated/networkx.linalg.graphmatrix.adjacency_matrix.html). As the documentation shows, this is returned as a SciPy sparse matrix. What is the space complexity of this adjacency matrix, as a function of the number of vertices $V$ and/or the number of edges $E$? What if you used a dense matrix representation? Test this out empirically for the Romeo and Juliet data. For a SciPy sparse matrix `x`, you can get its size in bytes with `x.data.nbytes`, and for a NumPy array `y` you can get its size in bytes with `y.nbytes`. You can convert a sparse matrix `x` to a dense matrix with `x.toarray()`. How many bytes do you think the dense form of the Facebook adjacency matrix would take? (If you try it, you will almost certainly run out of memory)."
   ]
  },
  {
   "cell_type": "markdown",
   "metadata": {},
   "source": [
    "### (optional) Exercise 6: assessing virality\n",
    "<!-- rubric={code:1,reasoning:1} -->\n",
    "\n",
    "Everyone wants this video or app to \"go viral\". Here, we will model virality as follows: \n",
    "\n",
    "1. pick some viral coefficient $\\xi\\in (0,1)$\n",
    "2. select one person (node) at random to be initially \"infected\"\n",
    "3. each currently infected person loses interest with 1% probability and becomes _permanently_ un-infected\n",
    "4. for each infected person, each neighbour in the graph becomes infected with probability $\\xi$. Note: if multiple neighbours of an un-infected node are infected, repeat this step multiple times. For example, if Mercutio and Paris like _Gangnam Style_, then Escalus has two chances of being infected at the current time step. Mathematically, the probability of infection is $1-(1-\\xi)^2 = 2\\xi-\\xi^2$, but you don't need to calculate this in your code because you can just repeatedly try to infect the person.\n",
    "5. repeat steps 3-4 $T=1000$ times. \n",
    "\n",
    "First, investigate how the number of infected people proceeds as a function of time. What is the general shape you observe? Report the _maximum_ proportion of your population that was infected at any given time. \n",
    "\n",
    "Try this for several values of $\\xi$ and investigate how the maximum proportion of infected people depends on $\\xi$. Is the relationship fairly linear or is there a sharp transition? Do your results depend significantly on the structure of the graph? For example, if you randomly remove half of the edges in the Facebook graph (be careful not to delete any vertices in the process!), what is the effect on the virality? \n",
    "\n",
    "Note: For a given value of $\\xi$ you will need to run many simulations and average the results to reduce noise. \n",
    "\n",
    "Note: this model for virality is similar to rudimentary models of how diseases spread across populations. "
   ]
  },
  {
   "cell_type": "markdown",
   "metadata": {},
   "source": [
    "Attribution: Exercises 1-4 adapted with permission of the instructor from the University of Washington's CSE 140: https://courses.cs.washington.edu/courses/cse140/13wi/homework/hw4/homework4.html."
   ]
  },
  {
   "cell_type": "code",
   "execution_count": null,
   "metadata": {
    "collapsed": true
   },
   "outputs": [],
   "source": []
  }
 ],
 "metadata": {
  "anaconda-cloud": {},
  "kernelspec": {
   "display_name": "Python [default]",
   "language": "python",
   "name": "python3"
  },
  "language_info": {
   "codemirror_mode": {
    "name": "ipython",
    "version": 3
   },
   "file_extension": ".py",
   "mimetype": "text/x-python",
   "name": "python",
   "nbconvert_exporter": "python",
   "pygments_lexer": "ipython3",
   "version": "3.5.2"
  }
 },
 "nbformat": 4,
 "nbformat_minor": 1
}
