{
 "cells": [
  {
   "cell_type": "markdown",
   "metadata": {},
   "source": [
    "# DSCI 572 lecture 4: computing derivatives\n"
   ]
  },
  {
   "cell_type": "code",
   "execution_count": 2,
   "metadata": {
    "collapsed": false
   },
   "outputs": [],
   "source": [
    "import numpy as np\n",
    "import sklearn\n",
    "import sklearn.linear_model\n",
    "import matplotlib.pyplot as plt\n",
    "%matplotlib inline"
   ]
  },
  {
   "cell_type": "markdown",
   "metadata": {},
   "source": [
    "Learning goals:\n",
    "\n",
    " * compare and contrast symbolic, automatic, and numerical differentiation, (and by-hand!), and discuss the pros and cons of each approach\n",
    " * compare and contrast the forward difference formula vs. the centred difference formula\n",
    " * implement a simple gradient checker using finite differences\n",
    " * interpret a plot of error estimating a derivative vs. h. Specifically explain the non-monotonic U-shape.\n",
    " * implement a simple optimizer using AutoGrad"
   ]
  },
  {
   "cell_type": "markdown",
   "metadata": {},
   "source": [
    "- In the last lecture we discussed numerical issues due to the **floating point** representation.\n",
    "\n",
    "- It turns out there's an entirely different type of numerical error that arises from **discretization**.\n",
    "\n",
    "- Consider $f(x)=\\sin(x)$. We know that $f'(x)\\equiv\\frac{df(x)}{dx}=\\cos(x)$ and thus $f'(1)=\\cos(1)$"
   ]
  },
  {
   "cell_type": "code",
   "execution_count": 3,
   "metadata": {
    "collapsed": false
   },
   "outputs": [
    {
     "data": {
      "text/plain": [
       "0.54030230586813977"
      ]
     },
     "execution_count": 3,
     "metadata": {},
     "output_type": "execute_result"
    }
   ],
   "source": [
    "np.cos(1)"
   ]
  },
  {
   "cell_type": "markdown",
   "metadata": {},
   "source": [
    "What if we are optimizing a function and we don't know its derivative that easily. This could happen because\n",
    "\n",
    "- you're optimizing the parameters of a computer simulation \n",
    "  - a robot\n",
    "  - weather / atmospheric science\n",
    "  - financial simulation\n",
    "  - ...\n",
    "- you're optimizing the hyperparameters of a machine learning algorithm\n",
    "- the derivative is just too much effort to compute and it's slowing down your prototyping efforts\n",
    "- ...\n",
    "\n",
    "What to do??"
   ]
  },
  {
   "cell_type": "markdown",
   "metadata": {},
   "source": [
    "There are 3 main approaches to computing derivatives with a computer\n",
    "\n",
    "- symbolic differentiation\n",
    "\n",
    "- numerical differentiation\n",
    "\n",
    "- automatic differentiation\n",
    "\n"
   ]
  },
  {
   "cell_type": "markdown",
   "metadata": {},
   "source": [
    "## symbolic differentiation\n",
    "\n",
    "- interpret the symbols and apply the rules of differentiation, sort of like a human does\n",
    "\n",
    "- see e.g. <https://www.wolframalpha.com/input/?i=derivative+of+sin(cos(x))>\n",
    "\n",
    "- a useful tool, but less so when deadling with data.\n",
    "\n",
    "- we will not say more about this now. You should be aware of its existence.\n"
   ]
  },
  {
   "cell_type": "markdown",
   "metadata": {},
   "source": [
    "## numerical differentiation\n",
    "\n",
    "- a derivative is defined as\n",
    "\n",
    "$$\\frac{df(x)}{dx} \\equiv \\lim_{h\\rightarrow 0} \\frac{f(x+h)-f(x)}{h} $$\n",
    "\n",
    "- numerical differentiation: do this even though $h$ is only small and not actually infinitesimal\n",
    "\n",
    "$$\\frac{df(x)}{dx} \\approx \\frac{f(x+h)-f(x)}{h}$$ for small $h$. This is called **finite differences**.\n",
    "\n",
    "Let's give it a try!"
   ]
  },
  {
   "cell_type": "code",
   "execution_count": 4,
   "metadata": {
    "collapsed": false
   },
   "outputs": [
    {
     "data": {
      "text/plain": [
       "0.5398814803603269"
      ]
     },
     "execution_count": 4,
     "metadata": {},
     "output_type": "execute_result"
    }
   ],
   "source": [
    "h = 0.001\n",
    "f = lambda x: np.sin(x)\n",
    "x0 = 1\n",
    "dfdx = (f(x0+h)-f(x0))/h\n",
    "dfdx"
   ]
  },
  {
   "cell_type": "code",
   "execution_count": 5,
   "metadata": {
    "collapsed": false
   },
   "outputs": [
    {
     "data": {
      "text/plain": [
       "0.54030230586813977"
      ]
     },
     "execution_count": 5,
     "metadata": {},
     "output_type": "execute_result"
    }
   ],
   "source": [
    "np.cos(1)"
   ]
  },
  {
   "cell_type": "markdown",
   "metadata": {},
   "source": [
    "Not bad!"
   ]
  },
  {
   "cell_type": "markdown",
   "metadata": {},
   "source": [
    "Question for all y'all: what do you think will happen to the absolute error of the estimate if I change $h$?\n",
    "\n",
    "Definition: \n",
    "\n",
    "let $f'(1)$ be the true derivative at $x=1$ and $\\hat{f'}(1)$ be the estimate. Then the absolute error is defined as\n",
    "\n",
    "$$\\left|f'(1)-\\hat{f'}(1)\\right|$$\n",
    "\n",
    "Discuss for a few minutes. "
   ]
  },
  {
   "cell_type": "code",
   "execution_count": 6,
   "metadata": {
    "collapsed": false
   },
   "outputs": [
    {
     "data": {
      "image/png": "[encoded data removed]",
      "text/plain": [
       "<matplotlib.figure.Figure at 0x112908400>"
      ]
     },
     "metadata": {},
     "output_type": "display_data"
    }
   ],
   "source": [
    "# here's the code\n",
    "dfdx_estimate = lambda h: (f(1+h)-f(1))/h\n",
    "dfdx_true = np.cos(1)\n",
    "abs_error = lambda h: np.abs(dfdx_estimate(h)-dfdx_true)\n",
    "\n",
    "h = 10**(np.linspace(-8,1))\n",
    "plt.loglog(h, abs_error(h))\n",
    "plt.show()"
   ]
  },
  {
   "cell_type": "markdown",
   "metadata": {},
   "source": [
    "Makes sense, right? But the plot thickens..."
   ]
  },
  {
   "cell_type": "code",
   "execution_count": 7,
   "metadata": {
    "collapsed": false
   },
   "outputs": [
    {
     "data": {
      "text/plain": [
       "<matplotlib.text.Text at 0x11632b668>"
      ]
     },
     "execution_count": 7,
     "metadata": {},
     "output_type": "execute_result"
    },
    {
     "data": {
      "image/png": "[encoded data removed]",
      "text/plain": [
       "<matplotlib.figure.Figure at 0x1161150b8>"
      ]
     },
     "metadata": {},
     "output_type": "display_data"
    }
   ],
   "source": [
    "h = 10**(np.linspace(-16,1))\n",
    "plt.loglog(h, abs_error(h))\n",
    "plt.xlabel('h')\n",
    "plt.ylabel('error in our estimate of derivative')"
   ]
  },
  {
   "cell_type": "markdown",
   "metadata": {},
   "source": [
    "Wait... what?\n",
    "\n",
    "Discuss for 5 min. "
   ]
  },
  {
   "cell_type": "markdown",
   "metadata": {},
   "source": [
    "- Recall lecture 3 (last time). When $h<<1$ we have that $\\left| f(x+h)-f(x) \\right|<<1$. This leads to _roundoff errors_. Is it underflow?"
   ]
  },
  {
   "cell_type": "code",
   "execution_count": 8,
   "metadata": {
    "collapsed": false
   },
   "outputs": [
    {
     "data": {
      "text/plain": [
       "[<matplotlib.lines.Line2D at 0x115d266a0>]"
      ]
     },
     "execution_count": 8,
     "metadata": {},
     "output_type": "execute_result"
    },
    {
     "data": {
      "image/png": "[encoded data removed]",
      "text/plain": [
       "<matplotlib.figure.Figure at 0x115d94588>"
      ]
     },
     "metadata": {},
     "output_type": "display_data"
    }
   ],
   "source": [
    "h = 10**(np.linspace(-25,1))\n",
    "plt.loglog(h, abs_error(h))"
   ]
  },
  {
   "cell_type": "markdown",
   "metadata": {},
   "source": [
    "So, no, the flat part is underflow (estimate of the derivative is exactly zero). What's up with the part in between, from $10^{-16}$ to $10^{-7}$\n",
    "\n",
    "- The problem is regular old roundoff error.\n",
    "\n",
    "- Roughly speaking, the magnitude of these roundoff errors is independent of $h$, and so the $h$ in the denominator causes $\\frac{1}{h}$-like behavior.\n",
    "\n",
    "- We can test this with a line, using our friend $10^{-16}$ from last lecture \n",
    "  - (optional) it's actually $2^{-53}$... 52 bits in the mantissa means spacing on the order of $2^{-52}$, which means roundoff error of $2^{-53}$."
   ]
  },
  {
   "cell_type": "code",
   "execution_count": 9,
   "metadata": {
    "collapsed": false
   },
   "outputs": [
    {
     "data": {
      "text/plain": [
       "[<matplotlib.lines.Line2D at 0x115d9a198>]"
      ]
     },
     "execution_count": 9,
     "metadata": {},
     "output_type": "execute_result"
    },
    {
     "data": {
      "image/png": "[encoded data removed]",
      "text/plain": [
       "<matplotlib.figure.Figure at 0x116586cc0>"
      ]
     },
     "metadata": {},
     "output_type": "display_data"
    }
   ],
   "source": [
    "h = 10**(np.linspace(-16,1))\n",
    "plt.loglog(h, abs_error(h))\n",
    "plt.loglog(h, 1e-16*dfdx_true/h)"
   ]
  },
  {
   "cell_type": "markdown",
   "metadata": {},
   "source": [
    "We won't go into the details of how we calculated the line, but we can see the the slope is indeed around 1. We can also look at the other line, which follows our intuition that a small $h$ is good..."
   ]
  },
  {
   "cell_type": "code",
   "execution_count": 10,
   "metadata": {
    "collapsed": false
   },
   "outputs": [
    {
     "data": {
      "text/plain": [
       "[<matplotlib.lines.Line2D at 0x1166769b0>]"
      ]
     },
     "execution_count": 10,
     "metadata": {},
     "output_type": "execute_result"
    },
    {
     "data": {
      "image/png": "[encoded data removed]",
      "text/plain": [
       "<matplotlib.figure.Figure at 0x11604d128>"
      ]
     },
     "metadata": {},
     "output_type": "display_data"
    }
   ],
   "source": [
    "h = 10**(np.linspace(-16,1))\n",
    "plt.loglog(h, abs_error(h))\n",
    "plt.loglog(h, 1e-16*abs(dfdx_true)/h)\n",
    "d2fdx2_true = -np.sin(1) # don't worry about this\n",
    "plt.loglog(h, abs(d2fdx2_true)/2*h)"
   ]
  },
  {
   "cell_type": "markdown",
   "metadata": {},
   "source": [
    "Wow!\n",
    "\n",
    "What have we learned?\n",
    "\n",
    "- the _numerical approximation_ to the derivative initially increases as $h$ gets smaller\n",
    "\n",
    "  - this effect is linear in $h$\n",
    "\n",
    "- however, when $h$ is too small then roundoff error kicks in and the error starts to decrease\n",
    "\n",
    "  - this effect is linear in $1/h$\n"
   ]
  },
  {
   "cell_type": "markdown",
   "metadata": {},
   "source": [
    "Bonus information:\n",
    "\n",
    "- there was better finite differences formulas than the one we are using, such as \n",
    "\n",
    "$$\\frac{df(x)}{dx} \\approx \\frac{f(x+h)-f(x-h)}{2h}$$\n",
    "\n",
    "- in this case the error goes down as $h^2$, which is great.\n",
    "- But most of the benefits come in applications that we don't care about here (solving differential equations). \n",
    "- OTOH for the right choice of $h$, the total error is lower than with the forward difference formula, so it's still appealing. \n",
    "- But, in $d$ dimensions, this requires $2d$ evaluations of the function instead of $d+1$, because with the forward difference formula (the original one above) we reuse the point $f(x)$ in all directions.\n",
    "- Conclusion: which formula you use depends on what you're doing.\n",
    "\n",
    "Extra-bonus information -- very, very optional and only if you are truly obsessed with numerical differentiation:\n",
    "\n",
    "- there are other methods for numerically approximating derivatives; see [chebfun](http://www.chebfun.org/) or the [complex step method](https://www.math.u-psud.fr/~maury/paps/NUM_CompDiff.pdf)"
   ]
  },
  {
   "cell_type": "markdown",
   "metadata": {},
   "source": [
    "#### taking a step back\n",
    "\n",
    "What have we learned:\n",
    "\n",
    "- if we can't figure out the derivative of a function, but have code that computes the function, we can _approximate_ the derivative using the above methods.\n",
    "\n",
    "- this works pretty well but there are some pitfalls. In particular you need to choose $h$ carefully.\n",
    "\n",
    "- it seems better to actually know the derivative if possible, because the computations will be faster and more accurate.\n",
    "\n",
    "- wait, why faster? it doesn't seem like a big deal. Well...\n",
    "\n",
    "- if you are estimating a gradient you can do the above independently for each dimension, where the step of size $h$ goes in a different direction each time\n",
    "\n",
    "- Ok, so now you have to evaluate the function in at least $d+1$ places. That sounds annoying. If I can do things in $\\mathcal{O}(1)$ function evaluations I'd be a lot happier than if it takes $\\mathcal{O}(d)$ function evaluations. Perhaps $d$ is 1000 or 10000. And perhaps function evaluations are slow."
   ]
  },
  {
   "cell_type": "markdown",
   "metadata": {},
   "source": [
    "## automatic differentiation (AD)"
   ]
  },
  {
   "cell_type": "markdown",
   "metadata": {},
   "source": [
    "- AD is another way to take the derivative given some code that computes $f$\n",
    "\n",
    "- it is sort of in between symbolic and numerical differentiation\n",
    "\n",
    "(bonus) How it works...\n",
    "\n",
    "- keep track of the gradient of primitive operations\n",
    "\n",
    "- apply the chain rule\n",
    "\n",
    "Demonstration: robust regression from Lecture 2 (the following code is copy/pasted from lecture 2. I should make this into its own file and import it from both lectures ...)"
   ]
  },
  {
   "cell_type": "code",
   "execution_count": 20,
   "metadata": {
    "collapsed": true
   },
   "outputs": [],
   "source": [
    "import autograd # pip install autograd\n",
    "from autograd import grad\n",
    "import autograd.numpy as np"
   ]
  },
  {
   "cell_type": "code",
   "execution_count": 23,
   "metadata": {
    "collapsed": false
   },
   "outputs": [],
   "source": [
    "# generate random data\n",
    "x = np.random.randn(40)\n",
    "y = 10*x\n",
    "# add random outliers\n",
    "Noutliers = 3\n",
    "y[:Noutliers] = -100*(x[:Noutliers]+np.random.randn(Noutliers))"
   ]
  },
  {
   "cell_type": "code",
   "execution_count": 24,
   "metadata": {
    "collapsed": false
   },
   "outputs": [
    {
     "data": {
      "image/png": "[encoded data removed]",
      "text/plain": [
       "<matplotlib.figure.Figure at 0x11600cef0>"
      ]
     },
     "metadata": {},
     "output_type": "display_data"
    },
    {
     "name": "stdout",
     "output_type": "stream",
     "text": [
      "w = -20.800047\n",
      "b = -7.745678\n"
     ]
    }
   ],
   "source": [
    "X = x[:,None] # reshape for sklearn\n",
    "\n",
    "lr = sklearn.linear_model.LinearRegression()\n",
    "lr.fit(X,y)\n",
    "plt.plot(x,y,'.')\n",
    "plt.plot(x, lr.predict(X))\n",
    "\n",
    "plt.show()\n",
    "\n",
    "\n",
    "print(\"w = %f\" % lr.coef_)\n",
    "print(\"b = %f\" % lr.intercept_)"
   ]
  },
  {
   "cell_type": "code",
   "execution_count": 25,
   "metadata": {
    "collapsed": false
   },
   "outputs": [
    {
     "data": {
      "image/png": "[encoded data removed]",
      "text/plain": [
       "<matplotlib.figure.Figure at 0x1164f4828>"
      ]
     },
     "metadata": {},
     "output_type": "display_data"
    },
    {
     "name": "stdout",
     "output_type": "stream",
     "text": [
      "w = 9.961645\n",
      "b = -0.280000\n"
     ]
    }
   ],
   "source": [
    "w = 0\n",
    "b = 0\n",
    "alpha = 0.01\n",
    "\n",
    "Nsteps = 1000\n",
    "f = lambda x,w,b: w*x+b\n",
    "\n",
    "for t in range(Nsteps):\n",
    "    dLdw = -np.sum(x*np.sign(y-f(x,w,b)))\n",
    "    dLdb = -np.sum(np.sign(y-f(x,w,b)))\n",
    "    w -= alpha*dLdw\n",
    "    b -= alpha*dLdb\n",
    "    \n",
    "plt.figure()\n",
    "plt.plot(x,y,'.')\n",
    "plt.plot(x,w*x+b)\n",
    "plt.show()\n",
    "\n",
    "print(\"w = %f\" % w)\n",
    "print(\"b = %f\" % b)"
   ]
  },
  {
   "cell_type": "markdown",
   "metadata": {},
   "source": [
    "Get ready...\n"
   ]
  },
  {
   "cell_type": "code",
   "execution_count": 26,
   "metadata": {
    "collapsed": false
   },
   "outputs": [
    {
     "data": {
      "image/png": "[encoded data removed]",
      "text/plain": [
       "<matplotlib.figure.Figure at 0x116895898>"
      ]
     },
     "metadata": {},
     "output_type": "display_data"
    },
    {
     "name": "stdout",
     "output_type": "stream",
     "text": [
      "w = 10.055525\n",
      "b = -0.260000\n"
     ]
    }
   ],
   "source": [
    "w = 0.0\n",
    "b = 0.0\n",
    "alpha = 0.01\n",
    "\n",
    "Nsteps = 1000\n",
    "f = lambda x,w,b: w*x+b\n",
    "loss = lambda w,b,x,y: np.sum(np.abs(y-f(x,w,b)))\n",
    "\n",
    "dLdw = grad(loss,argnum=0) # -np.sum(x*np.sign(y-f(x,w,b)))\n",
    "dLdb = grad(loss,argnum=1) #-np.sum(np.sign(y-f(x,w,b)))\n",
    "    \n",
    "for t in range(Nsteps):\n",
    "    w -= alpha*dLdw(w,b,x,y)\n",
    "    b -= alpha*dLdb(w,b,x,y)\n",
    "    \n",
    "plt.figure()\n",
    "plt.plot(x,y,'.')\n",
    "plt.plot(x,w*x+b)\n",
    "plt.show()\n",
    "\n",
    "print(\"w = %f\" % w)\n",
    "print(\"b = %f\" % b)"
   ]
  },
  {
   "cell_type": "markdown",
   "metadata": {},
   "source": [
    "Wow!!!\n",
    "\n",
    "If you want to learn more, see [Dougal's thesis](https://dougalmaclaurin.com/phd-thesis.pdf) section 2.5 and Chapter 4."
   ]
  },
  {
   "cell_type": "markdown",
   "metadata": {},
   "source": [
    "So what happened here is that autograd knows how to deal with things like `np.sum`, `np.abs`, subtraction, addition, etc. And it just applied the chain rule for us. \n",
    "\n",
    "But let's make sure it wasn't cheating and just doing numerical differentiation!!!"
   ]
  },
  {
   "cell_type": "code",
   "execution_count": 27,
   "metadata": {
    "collapsed": false
   },
   "outputs": [
    {
     "name": "stdout",
     "output_type": "stream",
     "text": [
      "Step  0\n",
      "Evaluated function!\n",
      "Step  1\n",
      "Evaluated function!\n",
      "Step  2\n",
      "Evaluated function!\n",
      "Step  3\n",
      "Evaluated function!\n",
      "Step  4\n",
      "Evaluated function!\n"
     ]
    }
   ],
   "source": [
    "\n",
    "Nsteps = 5\n",
    "def loss(w,b,x,y): \n",
    "    print(\"Evaluated function!\") # let us know what it's doing\n",
    "    return np.sum(np.abs(y-f(x,w,b)))\n",
    "\n",
    "dLdw = grad(loss,argnum=0)\n",
    "\n",
    "for t in range(Nsteps):\n",
    "    print(\"Step \", t)\n",
    "    #dLdb = grad(loss,argnum=1)\n",
    "    w -= alpha*dLdw(w,b,x,y)\n",
    "    #b -= alpha*dLdb(w,b,x,y)"
   ]
  },
  {
   "cell_type": "markdown",
   "metadata": {},
   "source": [
    "Boom. So each gradient evaluation only required one function evaluation. Instead of $d+1$ (here $d=1$)."
   ]
  },
  {
   "cell_type": "markdown",
   "metadata": {},
   "source": [
    "The big question:\n",
    "    \n",
    " - does this mean I never need to take a derivative again?\n",
    "    \n",
    "Well\n",
    "\n",
    " - for prototyping, hopefully not. For production / real-time applications, then probably. In general if you _can_ compute the derivative, and the time investment is relatively reasonable, then you should.\n",
    "    \n",
    "Other limitations:\n",
    "\n",
    " - many but not all NumPy functions are in there. If you have a new one you'll need to contribute to Autograd\n",
    "    \n",
    " - you have to use Python/NumPy or another language that offers a package like this\n",
    " \n",
    " - there are some actual limitations, like assigning to arrays\n",
    "     \n",
    "(bonus) Connection to DSCI 553:\n",
    "\n",
    " - some MCMC packages perform automatic differentiation of the likelihood function, to use more advanced MCMC methods e.g. [HMC](https://en.wikipedia.org/wiki/Hybrid_Monte_Carlo), [NUTS](http://www.stat.columbia.edu/~gelman/research/published/nuts.pdf)\n"
   ]
  },
  {
   "cell_type": "markdown",
   "metadata": {
    "collapsed": true
   },
   "source": [
    "- This hereby ends Part 1 of the course, which was about optimization and derivatives. \n",
    "- After the break we'll start on neural networks. We'll use TensorFlow and Keras. By the way, TensorFlow does automatic differentiation much like AutoGrad. So you just specify your model and then you can optimize it using gradient-based methods. This is extremely useful for prototyping. "
   ]
  }
 ],
 "metadata": {
  "anaconda-cloud": {},
  "kernelspec": {
   "display_name": "Python 3",
   "language": "python",
   "name": "python3"
  },
  "language_info": {
   "codemirror_mode": {
    "name": "ipython",
    "version": 3
   },
   "file_extension": ".py",
   "mimetype": "text/x-python",
   "name": "python",
   "nbconvert_exporter": "python",
   "pygments_lexer": "ipython3",
   "version": "3.6.0"
  }
 },
 "nbformat": 4,
 "nbformat_minor": 1
}
