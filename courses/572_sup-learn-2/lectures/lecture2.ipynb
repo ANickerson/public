{
 "cells": [
  {
   "cell_type": "markdown",
   "metadata": {},
   "source": [
    "# DSCI 572 Lecture 2\n",
    "\n"
   ]
  },
  {
   "cell_type": "code",
   "execution_count": 2,
   "metadata": {
    "collapsed": false
   },
   "outputs": [],
   "source": [
    "import numpy as np\n",
    "import sklearn\n",
    "import sklearn.linear_model\n",
    "import feather # export MACOSX_DEPLOYMENT_TARGET=10.10; pip install feather-format\n",
    "%load_ext rpy2.ipython\n",
    "import matplotlib.pyplot as plt\n",
    "%matplotlib inline"
   ]
  },
  {
   "cell_type": "markdown",
   "metadata": {},
   "source": [
    "## gradients\n",
    "\n",
    "#### review of derivatives\n",
    "\n",
    "Derivative: gives you the rate of change.\n",
    "\n",
    "What about the _sign_ specifically? It gives you the _direction of change_.\n",
    "\n",
    "#### review of gradients\n",
    "\n",
    "[Gradient](https://en.wikipedia.org/wiki/Gradient): say you have a function $f(\\mathbf{x})$ that maps $\\mathbb{R}^d\\rightarrow \\mathbb{R}$. In other words, it takes in a vector and produces a scalar. Then its gradient is written as $\\nabla f$. The gradient is also a vector of length $d$. It is a vector of the partial derivatives\n",
    "\n",
    "\n",
    "$$\\left(\\begin{array}{c}\\frac{\\partial f}{\\partial x_1}\\\\ \\vdots \\\\ \\frac{\\partial f}{\\partial x_d} \\end{array}\\right)$$\n",
    "\n",
    "We will pay special attention to the _direction_ of the gradient. It has a similar interpretation to the sign of the derivative. It is the _direction of fastest increase_. \n",
    "\n",
    "Moving (with infinitesimal step size) in the gradient direction increases $f$ as much as possible (or makes $f$ stay the same if the gradient is zero). \n"
   ]
  },
  {
   "cell_type": "markdown",
   "metadata": {},
   "source": [
    "## let's take some gradients\n",
    "\n",
    "1. $f(x,y) = \\sin(xy)$\n",
    "2. $g(\\mathbf{x})= \\frac{1}{2}||\\mathbf{x}||^2_2$\n",
    "3. $h(\\mathbf{x})=A\\mathbf{x}$"
   ]
  },
  {
   "cell_type": "markdown",
   "metadata": {},
   "source": [
    "## gradient descent\n",
    "\n",
    "#### use of the gradient: optimization\n",
    "\n",
    "The (negative) gradient gives us a direction of travel, if we want to minimize a function!\n",
    "\n",
    "If we are trying to minimize $f(\\mathbf{w})$, then gradient descent works by starting with some initial guess $\\mathbf{w}_0$ and then updating with\n",
    "\n",
    "$$\\mathbf{w}_{t+1} = \\mathbf{w}_{t} - \\alpha\\, \\nabla f(\\mathbf{w}_{t})$$\n",
    "\n",
    "- Note: gradient descent is an algorithm for minimization. The corresponding method for maximization is called gradient ascent.\n",
    "- (optional note): physicists like me tend to think about _units_. Note that $f$ and $\\nabla f$ have different units, which means the learning rate has units. That seems weird, since we'd hope to pick the learning rate irrespective of the scaling of our probelm. If this bothers you, see [this blog post](http://timvieira.github.io/blog/post/2016/05/27/dimensional-analysis-of-gradient-ascent/)."
   ]
  },
  {
   "cell_type": "markdown",
   "metadata": {},
   "source": [
    "\n",
    "#### magnitude vs. direction\n",
    "\n",
    "In the above we are making use of the magnitude of the gradient, not just its direction. This actually makes sense. When the magnitude is small, we are in a flatter area and want to take smaller steps. \n",
    "\n",
    "However, some methods exist that just use the direction. For example given a direction you can do a [line search](https://en.wikipedia.org/wiki/Line_search).\n",
    "\n",
    "#### picking the learning rate\n",
    "\n",
    "In general picking $\\alpha$ is a pain. There is theory on this regarding convergence guarantees and convergence rates. The learning rate is sometimes decreased over time. Fancier methods pick the learning rate adaptively.\n",
    "\n",
    "#### termination conditions\n",
    "\n",
    "We can stop when $||\\nabla f||$ is sufficiently small (because this indicates we're at a local minimum), or when a specified maximum number of iterations are reached (because we want to limit the computational expense).\n",
    "\n",
    "#### why gradient descent\n",
    "\n",
    "Question: why do we want to use the gradient? \n",
    "\n",
    "- One way to think about it is that you get $d$ times more information than just the function value\n",
    "- It takes $d+1$ evaluations to estimate the gradient (we'll discuss this in lecture 4)\n",
    "- Without it, you are blindly moving around (analogy: _E. coli_ vs _Dicty_)"
   ]
  },
  {
   "cell_type": "markdown",
   "metadata": {},
   "source": [
    "## Least squares via normal equations vs. gradient descent:\n",
    "\n",
    "- Normal equations cost $\\mathcal{O}(nd^2 + d^3)$.\n",
    "  - forming $X^TX$ costs $\\mathcal{O}(nd^2)$ and solving a $d\\times d$ linear system costs $\\mathcal{O}(d^3)$\n",
    "- Gradient descent costs $\\mathcal{O}(ndt)$ to run for $t$ iterations.\n",
    "  - computing $\\nabla f(\\mathbf{w})=X^TXw-X^Ty$ only costs $\\mathcal{O}(nd)$ \n",
    "- Gradient descent can be faster when $d$ is very large\n",
    "  - well, this is just big-O, we don't know the coeffcients\n",
    "  - matrix operations are fast. iteration is slow, especially in Python\n",
    "  - gradient descent is probably not the way to go with OLS, but we'll see its usefulness below\n",
    "\n",
    "Let's do some experiments to test the speed of various approaches!"
   ]
  },
  {
   "cell_type": "markdown",
   "metadata": {},
   "source": [
    "#### approach 1: `lm` in R"
   ]
  },
  {
   "cell_type": "code",
   "execution_count": 47,
   "metadata": {
    "collapsed": false
   },
   "outputs": [],
   "source": [
    "%%R\n",
    "# generate the fake data\n",
    "\n",
    "library(feather) # install.packages(\"feather\")\n",
    "\n",
    "d <- 10\n",
    "N <- 1000\n",
    "\n",
    "df = data.frame(replicate(d+1,rnorm(N)))\n",
    "\n",
    "# we're being very careful and ensuring that all implementations use the exact same random data\n",
    "path <- \"my_data.feather\"\n",
    "write_feather(df, path)\n"
   ]
  },
  {
   "cell_type": "code",
   "execution_count": 48,
   "metadata": {
    "collapsed": false
   },
   "outputs": [
    {
     "data": {
      "text/plain": [
       "\n",
       "Call:\n",
       "lm(formula = X1 ~ ., data = df)\n",
       "\n",
       "Coefficients:\n",
       "(Intercept)           X2           X3           X4           X5           X6  \n",
       "   0.001174    -0.009045    -0.009488     0.032485     0.021885     0.041790  \n",
       "         X7           X8           X9          X10          X11  \n",
       "   0.023937    -0.017901    -0.041342    -0.035752    -0.009985  \n",
       "\n"
      ]
     },
     "metadata": {},
     "output_type": "display_data"
    }
   ],
   "source": [
    "%%R \n",
    "df <- read_feather(path)\n",
    "\n",
    "lm(X1~., data=df)\n"
   ]
  },
  {
   "cell_type": "code",
   "execution_count": 49,
   "metadata": {
    "collapsed": false
   },
   "outputs": [
    {
     "data": {
      "text/plain": [
       "   user  system elapsed \n",
       "  0.006   0.000   0.007 \n"
      ]
     },
     "metadata": {},
     "output_type": "display_data"
    }
   ],
   "source": [
    "%%R \n",
    "\n",
    "system.time(lm(X1~., data=df))\n"
   ]
  },
  {
   "cell_type": "markdown",
   "metadata": {},
   "source": [
    "#### approach 2: sklearn's LinearRegression in Python"
   ]
  },
  {
   "cell_type": "code",
   "execution_count": 50,
   "metadata": {
    "collapsed": false
   },
   "outputs": [
    {
     "name": "stdout",
     "output_type": "stream",
     "text": [
      "The slowest run took 73.99 times longer than the fastest. This could mean that an intermediate result is being cached.\n",
      "1000 loops, best of 3: 566 µs per loop\n",
      "0.00117357983703\n",
      "[-0.00904501 -0.00948793  0.03248485  0.02188539  0.04179018  0.0239366\n",
      " -0.01790057 -0.04134153 -0.03575227 -0.0099849 ]\n"
     ]
    }
   ],
   "source": [
    "# sklearn least squares\n",
    "\n",
    "path = 'my_data.feather'\n",
    "df = feather.read_dataframe(path)\n",
    "dfm = df.as_matrix()\n",
    "X = dfm[:,1:]\n",
    "y = dfm[:,0]\n",
    "\n",
    "lr = sklearn.linear_model.LinearRegression()\n",
    "%timeit lr.fit(X,y)\n",
    "print(lr.intercept_)\n",
    "print(lr.coef_)"
   ]
  },
  {
   "cell_type": "markdown",
   "metadata": {},
   "source": [
    "#### approach 3: roll-your-own gradient descent in Python"
   ]
  },
  {
   "cell_type": "code",
   "execution_count": 52,
   "metadata": {
    "collapsed": false
   },
   "outputs": [],
   "source": [
    "# add a feature of all 1's for intercept (this trick was mentioned in DSCI 573 Lecture 1)\n",
    "X = np.append(np.ones(X.shape[0])[:,None], X, axis=1)\n",
    "\n",
    "XTX = X.T@X\n",
    "XTy = X.T@y\n",
    "\n",
    "alpha = 0.00001\n",
    "\n",
    "grad_f = lambda w: XTX@w - XTy"
   ]
  },
  {
   "cell_type": "code",
   "execution_count": 56,
   "metadata": {
    "collapsed": false
   },
   "outputs": [
    {
     "name": "stdout",
     "output_type": "stream",
     "text": [
      "100 loops, best of 3: 3.32 ms per loop\n"
     ]
    }
   ],
   "source": [
    "%%timeit\n",
    "\n",
    "w = np.zeros(X.shape[1])\n",
    "\n",
    "for t in range(1000):\n",
    "    w -= alpha*grad_f(w)\n",
    "\n",
    "    "
   ]
  },
  {
   "cell_type": "code",
   "execution_count": 57,
   "metadata": {
    "collapsed": true
   },
   "outputs": [],
   "source": [
    "# do the same thing without timeit\n",
    "w = np.zeros(X.shape[1])\n",
    "\n",
    "for t in range(1000):\n",
    "    w -= alpha*grad_f(w)\n",
    "\n",
    "    "
   ]
  },
  {
   "cell_type": "code",
   "execution_count": 55,
   "metadata": {
    "collapsed": false
   },
   "outputs": [
    {
     "name": "stdout",
     "output_type": "stream",
     "text": [
      "Intercept: 0.001175\n",
      "Weights: [-0.00904604 -0.00948662  0.03248089  0.02188408  0.04178855  0.02393699\n",
      " -0.01789993 -0.04134251 -0.03575175 -0.00998412]\n"
     ]
    }
   ],
   "source": [
    "print(\"Intercept: %f\" % w[0])\n",
    "print(\"Weights: %s\" % w[1:])"
   ]
  },
  {
   "cell_type": "markdown",
   "metadata": {},
   "source": [
    "#### approach 4: roll-your-own Normal equations in Python"
   ]
  },
  {
   "cell_type": "code",
   "execution_count": 11,
   "metadata": {
    "collapsed": false
   },
   "outputs": [
    {
     "name": "stdout",
     "output_type": "stream",
     "text": [
      "The slowest run took 388.52 times longer than the fastest. This could mean that an intermediate result is being cached.\n",
      "100000 loops, best of 3: 15.7 µs per loop\n",
      "[ 0.00313832 -0.01677082 -0.00662893 -0.00819619  0.01263048  0.06619282\n",
      "  0.01806788  0.02529413  0.04439167  0.01766597  0.03029174]\n"
     ]
    }
   ],
   "source": [
    "# normal equations\n",
    "\n",
    "%timeit weights = np.linalg.solve(XTX,XTy)\n",
    "\n",
    "weights = np.linalg.solve(XTX,XTy)\n",
    "\n",
    "print(weights)"
   ]
  },
  {
   "cell_type": "markdown",
   "metadata": {},
   "source": [
    "#### results\n",
    "\n",
    "| Method | Time |\n",
    "|--------|------|\n",
    "| `lm`   | 5 ms |\n",
    "| sklearn | 1 ms |\n",
    "| gradient descent | 5 ms |\n",
    "| normal equations | hard to say because numpy caching, maybe 10 ms? |\n",
    "\n",
    "So, basically they are all within the same order of magnitude in this case. And importantly they yield the same coefficients which is reassuring (and cool... math works!). \n"
   ]
  },
  {
   "cell_type": "markdown",
   "metadata": {},
   "source": [
    "## why gradient descent\n",
    "\n",
    "If we can solve least squares in closed form with linear algebra, why do we want gradient descent?\n",
    "\n",
    "Answer: we can make changes and everything still works. For example we can minimize the L1 objective\n",
    "\n",
    "$$ \\sum_{n=1}^N\\left|\\left|y_n-\\mathbf{w}^\\top(\\mathbf{x_n})\\right|\\right|_1 =  \\sum_{n=1}^N\\left|y_n-\\mathbf{w}^\\top x_{n}\\right| $$\n",
    "\n",
    "with gradient descent. This is the sum of absolute values instead of the sum of squares. This will hopefully give us robust regression because big distances aren't amplified in the objective.\n",
    "\n",
    "You might point out this is non-differentiable. If you are interested in this you can read about [subgradients](https://en.wikipedia.org/wiki/Subderivative). We will (irresponsibly?) ignore this issue."
   ]
  },
  {
   "cell_type": "code",
   "execution_count": 62,
   "metadata": {
    "collapsed": false
   },
   "outputs": [
    {
     "data": {
      "image/png": "[encoded data removed]",
      "text/plain": [
       "<matplotlib.figure.Figure at 0x11db8ed68>"
      ]
     },
     "metadata": {},
     "output_type": "display_data"
    },
    {
     "name": "stdout",
     "output_type": "stream",
     "text": [
      "w = 4.898490\n",
      "b = 9.875473\n"
     ]
    }
   ],
   "source": [
    "# generate random data\n",
    "x = np.random.randn(40)\n",
    "y = 10*x\n",
    "# add random outliers\n",
    "Noutliers = 3\n",
    "y[:Noutliers] = -100*(x[:Noutliers]+np.random.randn(Noutliers))\n",
    "\n",
    "# plot the points\n",
    "plt.plot(x,y,'.')\n",
    "\n",
    "X = x[:,None] # reshape for sklearn\n",
    "\n",
    "# fit a linear regression model\n",
    "lr = sklearn.linear_model.LinearRegression()\n",
    "lr.fit(X,y)\n",
    "plt.plot(x, lr.predict(X))\n",
    "\n",
    "plt.show()\n",
    "\n",
    "\n",
    "print(\"w = %f\" % lr.coef_)\n",
    "print(\"b = %f\" % lr.intercept_)"
   ]
  },
  {
   "cell_type": "markdown",
   "metadata": {},
   "source": [
    "For linear regression in one dimension our L1 objective becomes\n",
    "\n",
    "$$\\mathcal{L}(w,b)=\\displaystyle \\sum_{n=1}^N\\left|y_n-  (w x_n +b)\\right| $$\n",
    "\n",
    "The gradient is\n",
    "\n",
    "$$\\frac{\\partial \\mathcal{L}}{\\partial w} = \\sum_{n=1}^N - x_n \\textrm{sign}\\left(y_n-  (w x_n +b)\\right)$$ \n",
    "\n",
    "$$\\frac{\\partial \\mathcal{L}}{\\partial b} = \\sum_{n=1}^N - \\textrm{sign}\\left(y_n-  (w x_n +b)\\right)$$ \n",
    "\n"
   ]
  },
  {
   "cell_type": "code",
   "execution_count": 63,
   "metadata": {
    "collapsed": false
   },
   "outputs": [
    {
     "data": {
      "image/png": "[encoded data removed]",
      "text/plain": [
       "<matplotlib.figure.Figure at 0x11e95e2e8>"
      ]
     },
     "metadata": {},
     "output_type": "display_data"
    },
    {
     "name": "stdout",
     "output_type": "stream",
     "text": [
      "w = 10.062337\n",
      "b = -0.000000\n"
     ]
    }
   ],
   "source": [
    "w = 0\n",
    "b = 0\n",
    "alpha = 0.01\n",
    "\n",
    "Nsteps = 1000\n",
    "f = lambda x,w,b: w*x+b\n",
    "\n",
    "for t in range(Nsteps):\n",
    "    dLdw = -np.sum(x*np.sign(y-f(x,w,b)))\n",
    "    dLdb = -np.sum(np.sign(y-f(x,w,b)))\n",
    "    w -= alpha*dLdw\n",
    "    b -= alpha*dLdb\n",
    "    \n",
    "plt.figure()\n",
    "plt.plot(x,y,'.')\n",
    "plt.plot(x,w*x+b)\n",
    "plt.show()\n",
    "\n",
    "print(\"w = %f\" % w)\n",
    "print(\"b = %f\" % b)\n"
   ]
  },
  {
   "cell_type": "markdown",
   "metadata": {},
   "source": [
    "(optional): for more than 1-dimensional linear regression our L1 objective becomes\n",
    "\n",
    "$$\\displaystyle \\sum_{n=1}^N\\left|\\left|y_n-\\mathbf{w}^\\top\\mathbf{x_n}\\right|\\right|_1= \\sum_{n=1}^N\\sum_{i=1}^d \\left|y_n-w_i x_{ni}\\right|$$\n",
    "\n",
    "The gradient w.r.t. $w_i$ is\n",
    "\n",
    "$$\\sum_{n=1}^N - x_{ni} \\textrm{sign}\\left(y_n-w_i x_{ni}\\right)$$"
   ]
  },
  {
   "cell_type": "markdown",
   "metadata": {},
   "source": [
    "## What space am I in?\n",
    "\n",
    "A key point is being able to move around between $x$ space and $w$ space. The above diagrams are in $y$ vs. $x$ space. Here's what the loss looks like:"
   ]
  },
  {
   "cell_type": "code",
   "execution_count": 45,
   "metadata": {
    "collapsed": false
   },
   "outputs": [
    {
     "data": {
      "text/plain": [
       "<matplotlib.text.Text at 0x11e5918d0>"
      ]
     },
     "execution_count": 45,
     "metadata": {},
     "output_type": "execute_result"
    },
    {
     "data": {
      "image/png": "[encoded data removed]",
      "text/plain": [
       "<matplotlib.figure.Figure at 0x11df5c7b8>"
      ]
     },
     "metadata": {},
     "output_type": "display_data"
    }
   ],
   "source": [
    "m = 100\n",
    "w_lin = np.linspace(-20.0, 20.0, m)\n",
    "b_lin = np.linspace(-20.0, 20.0, m)\n",
    "w_grid, b_grid = np.meshgrid(w_lin, b_lin)\n",
    "\n",
    "pred = w_grid.flatten()[None]*X + b_grid.flatten()[None]\n",
    "\n",
    "loss = np.sum((pred-y[:,None])**2,axis=0)\n",
    "\n",
    "loss = np.reshape(loss,[m,m])\n",
    "\n",
    "plt.figure()\n",
    "CS = plt.contour(w_grid, b_grid, loss)\n",
    "plt.plot(lr.coef_, lr.intercept_, 'r*')\n",
    "\n",
    "plt.clabel(CS, inline=1, fontsize=10)\n",
    "plt.title('Loss function in w-b space')"
   ]
  },
  {
   "cell_type": "code",
   "execution_count": 46,
   "metadata": {
    "collapsed": false
   },
   "outputs": [
    {
     "data": {
      "text/plain": [
       "<matplotlib.text.Text at 0x11e6d4da0>"
      ]
     },
     "execution_count": 46,
     "metadata": {},
     "output_type": "execute_result"
    },
    {
     "data": {
      "image/png": "[encoded data removed]",
      "text/plain": [
       "<matplotlib.figure.Figure at 0x11e3106d8>"
      ]
     },
     "metadata": {},
     "output_type": "display_data"
    }
   ],
   "source": [
    "loss = np.sum(np.abs(pred-y[:,None]),axis=0)\n",
    "\n",
    "loss = np.reshape(loss,[m,m])\n",
    "\n",
    "plt.figure()\n",
    "CS = plt.contour(w_grid, b_grid, loss)\n",
    "plt.plot(w, b, 'r*')\n",
    "\n",
    "plt.clabel(CS, inline=1, fontsize=10)\n",
    "plt.title('Loss function in w-b space')"
   ]
  },
  {
   "cell_type": "markdown",
   "metadata": {},
   "source": [
    "Key intuition: every point in weight space corressponds to a _model_ (in this case a line) in input-output space."
   ]
  },
  {
   "cell_type": "markdown",
   "metadata": {},
   "source": [
    "## logistic regression\n",
    "\n",
    "(go through provided code in lab 1 and explain/derive the loss/grad)"
   ]
  },
  {
   "cell_type": "markdown",
   "metadata": {},
   "source": [
    "## multi-class logistic regression (lab 1 question 3b)\n",
    "\n",
    "- each class gets its own weight vector\n",
    "- so we store all the weights in a matrix W for convenience\n",
    "- when we predict, we end up with a number for each class that comes from $w_c^\\top x_i$\n",
    "- we have $C$ such numbers and we want to turn them into probabilities that sum to 1\n",
    "- use \"softmax\" strategy\n",
    "  - take $\\exp$ of each number: now they are all positive\n",
    "  - divide by their sum: now they sum to 1\n",
    "- we will return to this in lecture 6 when we talk about neural networks for multi-class classification\n",
    "\n",
    "The optional lab question 3b asks you to implement this. I've described how the prediction works but you'll need to compute the gradient. There are a few possible loss functions but you can just use the same one we've been using: the output probability corresponding to the true class. \n",
    "\n",
    "By the way, to make a hard prediction (just give me your best shot), you don't need the softmax. Because the biggest raw output will become the biggest probability. So you can just do $y_i=\\arg\\max_c w_c^\\top x_i$."
   ]
  },
  {
   "cell_type": "markdown",
   "metadata": {},
   "source": [
    "## multi-class intuition (lab 1 question 4b)\n",
    "\n",
    "Question: if you train on a mutli-class problem, how will you do on a one-vs-all (binary) classification problem?\n",
    "\n",
    "(BTW, the \"1\" in one-vs-all doesn't mean the class \"1\" vs other classes. It just means one of the classes versus the rest. A bit confusing...)\n",
    "\n",
    "#### confusion matrix view (same training/prediction, different evaluation)\n",
    "\n",
    "Consider 4-class classification\n",
    "\n",
    "|   | 1  |  2   | 3  | 4|\n",
    "|---|-----|----|---|----|\n",
    "| **1** |  o  |    |   |    |\n",
    "| **2** |     | o  |   |    |\n",
    "| **3** |     |    | o |    |\n",
    "| **4** |     |    |   |  o |\n",
    "\n",
    "Correct answers are marked with 'o'. \n",
    "\n",
    "Now consider the 2-vs-all problem.\n",
    "\n",
    "\n",
    "|   | 1 (no) |  2 (yes)  | 3 (no)  | 4 (yes) |\n",
    "|---|-----|----|---|----|\n",
    "| **1 (no)** |  o  |    | o | o  |\n",
    "| **2 (yes)** |     | o  |   |    |\n",
    "| **3 (no)** |  o  |    | o | o  |\n",
    "| **4 (no)** |  o  |    | o | o  |\n",
    "\n",
    "Again, correct answers are marked with 'o'. \n",
    "\n",
    "- So, we can see that if we make the predictions, the one-vs-all problem is _strictly easier_.\n",
    "- This is the case of two models trained in the same way (or just one model), but tested differently\n",
    "\n",
    "But then we can ask a more subtle question, which is the one in the lab:\n",
    "\n",
    "- What if we have two models trained differently, but tested in the same way?\n",
    "- In particular, one is trained on one-vs-all, and the other is trained on multi-class, but we ask how well both do on one-vs-all.\n",
    "\n",
    "#### KNN example (different training/prediction, same evaluation)\n",
    "\n",
    "Example: KNN with $k=5$. For some particular test example, the $k$ nearest neighbours have labels 2,2,3,4,5.\n",
    "\n",
    "**Case 1: one-vs-all**\n",
    "\n",
    "In the one-vs-all case, this will have been convered to: {yes, yes, no, no, no}. So the KNN takes the mode and votes \"no\".\n",
    "\n",
    "**Case 1: mutli-class**\n",
    "\n",
    "In the multi-class case, we have 2,2,3,4,5 and we take the mode and vote \"2\". We then convert this to yes/no _after_ predicting and end up with \"yes\". So the two classifiers behave differently.\n",
    "\n",
    "Although logistic regression works very differently from KNN, the same type of thing can happen and the two training methods can give _different predictions_ on the same one-vs-all test set.\n",
    "\n",
    "We have now showed how the predictions can be different. It's up to you to think about which one will be better. It's possible to make a pretty convincing argument. \n"
   ]
  },
  {
   "cell_type": "code",
   "execution_count": null,
   "metadata": {
    "collapsed": true
   },
   "outputs": [],
   "source": []
  }
 ],
 "metadata": {
  "anaconda-cloud": {},
  "kernelspec": {
   "display_name": "Python [Root]",
   "language": "python",
   "name": "Python [Root]"
  },
  "language_info": {
   "codemirror_mode": {
    "name": "ipython",
    "version": 3
   },
   "file_extension": ".py",
   "mimetype": "text/x-python",
   "name": "python",
   "nbconvert_exporter": "python",
   "pygments_lexer": "ipython3",
   "version": "3.5.2"
  }
 },
 "nbformat": 4,
 "nbformat_minor": 1
}
