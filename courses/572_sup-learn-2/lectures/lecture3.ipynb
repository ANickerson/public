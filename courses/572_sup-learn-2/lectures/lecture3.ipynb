{
 "cells": [
  {
   "cell_type": "markdown",
   "metadata": {},
   "source": [
    "# DSCI 572 Lecture 3\n",
    "\n",
    "floating point numbers"
   ]
  },
  {
   "cell_type": "code",
   "execution_count": 45,
   "metadata": {
    "collapsed": false
   },
   "outputs": [
    {
     "data": {
      "text/plain": [
       "-2.7755575615628914e-17"
      ]
     },
     "execution_count": 45,
     "metadata": {},
     "output_type": "execute_result"
    }
   ],
   "source": [
    "# motivating example\n",
    "0.3 - 0.2 - 0.1 "
   ]
  },
  {
   "cell_type": "markdown",
   "metadata": {},
   "source": [
    "(demonstrate this in other languages)\n",
    "\n",
    "Funny story: during my undergrad I send a bug report to MathWorks because I observed this behaviour in MATLAB. I got a very polite and patient response... "
   ]
  },
  {
   "cell_type": "markdown",
   "metadata": {},
   "source": [
    "#### Review from DSCI 521 of binary numbers and representations of integers (5-10 min)"
   ]
  },
  {
   "cell_type": "code",
   "execution_count": 47,
   "metadata": {
    "collapsed": false
   },
   "outputs": [
    {
     "data": {
      "text/plain": [
       "'1011'"
      ]
     },
     "execution_count": 47,
     "metadata": {},
     "output_type": "execute_result"
    }
   ],
   "source": [
    "\"{0:b}\".format(11)"
   ]
  },
  {
   "cell_type": "markdown",
   "metadata": {},
   "source": [
    "Read this as $$1\\times 2^3 + 0\\times 2^2 + 1\\times 2^1 + 1\\times 2^0 = 8+2+1 = 11$$"
   ]
  },
  {
   "cell_type": "markdown",
   "metadata": {},
   "source": [
    "- In practice there's one bit used as the \"sign bit\"\n",
    "- Since we don't need both positive 0 and negative 0, we keep one extra number on the negative side\n",
    "- So a 64-bit integer ranges from $-2^{63}$ to $2^{63}-1$, inclusive.\n",
    "- Python is special because it takes care of this for you behind the scenes. "
   ]
  },
  {
   "cell_type": "code",
   "execution_count": 34,
   "metadata": {
    "collapsed": false
   },
   "outputs": [
    {
     "data": {
      "text/plain": [
       "int"
      ]
     },
     "execution_count": 34,
     "metadata": {},
     "output_type": "execute_result"
    }
   ],
   "source": [
    "type(2**100) # Python is special"
   ]
  },
  {
   "cell_type": "code",
   "execution_count": 35,
   "metadata": {
    "collapsed": true
   },
   "outputs": [],
   "source": [
    "%load_ext rpy2.ipython"
   ]
  },
  {
   "cell_type": "code",
   "execution_count": 36,
   "metadata": {
    "collapsed": false
   },
   "outputs": [
    {
     "data": {
      "text/plain": [
       "[1] 1073741824\n"
      ]
     },
     "metadata": {},
     "output_type": "display_data"
    }
   ],
   "source": [
    "%%R \n",
    "x = 1L\n",
    "for (i in 1:30) { # try 30 and 31\n",
    "  x = x * 2L\n",
    "}\n",
    "print(x)"
   ]
  },
  {
   "cell_type": "markdown",
   "metadata": {},
   "source": [
    "We conclude that R is using 32-bit integers. "
   ]
  },
  {
   "cell_type": "markdown",
   "metadata": {},
   "source": [
    "#### Review scientific notation (0 min)"
   ]
  },
  {
   "cell_type": "code",
   "execution_count": 37,
   "metadata": {
    "collapsed": false
   },
   "outputs": [
    {
     "data": {
      "text/plain": [
       "2.3423423974482344e+16"
      ]
     },
     "execution_count": 37,
     "metadata": {},
     "output_type": "execute_result"
    }
   ],
   "source": [
    "23423423974482344.0"
   ]
  },
  {
   "cell_type": "markdown",
   "metadata": {},
   "source": [
    "#### decimal numbers in binary (5 min)\n",
    "\n",
    "Consider the number $101.11$.\n",
    "\n",
    "Interpretation:\n",
    "\n",
    "$$1\\times 2^2 + 0\\times 2^1 + 1\\times 2^0 + 1\\times 2^{-1} + 1\\times 2^{-2} = 4+1+0.5+0.25 = 5.75$$\n",
    "\n",
    "Exercise: convert $1.10101$ to base 10.\n",
    "\n"
   ]
  },
  {
   "cell_type": "markdown",
   "metadata": {},
   "source": [
    "#### Explain floating point system (20 min)\n",
    "\n",
    "Everything is represented in \"scientific notation\". In other words, $A \\times 10^B$. Except in this case it's more like $1.M \\times 2^E$, where $M$ is called the mantissa and $E$ is called the exponent.\n",
    "\n",
    "Examples:\n",
    "\n",
    "| number in base 10 | scientific notation | M (binary) | E (binary) | \n",
    "|--------------------|---------------------|-------------|--------|\n",
    "|  2                  |  $1\\times 2^1$    |  0           | 1      | \n",
    "| 0.375               |  $1.5\\times 2^{-2} $ |  1      |  -10  |\n",
    "| 0.1                 |  $1.?? \\times 2^{-4}$ | ?? | -100  |"
   ]
  },
  {
   "cell_type": "markdown",
   "metadata": {},
   "source": [
    "**IEEE floating point standard**: https://en.wikipedia.org/wiki/IEEE_floating_point\n",
    "\n",
    "Key info: in IEEE double precision, we use 53 bits for the mantissa and 11 bits for the exponent (total = 64 bits).\n",
    "\n",
    "**Exercise** (5-10 min): calculate the smallest and largest possible floating point numbers.\n",
    "\n",
    "Then empirically check this. The largest one is about right. The smallest one is not right. This is because of sub-normal numbers (out of scope of lecture).\n",
    "\n",
    "NOTE: Python has a special behaviour that we need to watch out for. If you do something like `10**1000` you will get a giant integer. That's because Python has a dynamically expanding integer type. This has nothing to do with floating point representations, which are the thing we really care about for scientific computation (not to mention that most other languages, including R, do not do this). So, when playing around, make sure you write `10**1000.0` to ensure it's a floating point. Or `1e1000` but that doesn't work for other bases. \n",
    "\n",
    "(Also, and this is _REALLY_ out of scope but just FYI if anyone cares, in some languages `1eX` and `10^X` will return slightly different answers, if the language uses a special routine for `1eX` that is more optimized than the generral power function. I cannot imagine this ever mattering to any of us.)\n",
    "\n"
   ]
  },
  {
   "cell_type": "code",
   "execution_count": 55,
   "metadata": {
    "collapsed": false
   },
   "outputs": [
    {
     "ename": "OverflowError",
     "evalue": "(34, 'Result too large')",
     "output_type": "error",
     "traceback": [
      "\u001b[0;31m---------------------------------------------------------------------------\u001b[0m",
      "\u001b[0;31mOverflowError\u001b[0m                             Traceback (most recent call last)",
      "\u001b[0;32m<ipython-input-55-963ef89ed3c2>\u001b[0m in \u001b[0;36m<module>\u001b[0;34m()\u001b[0m\n\u001b[0;32m----> 1\u001b[0;31m \u001b[0;36m2\u001b[0m\u001b[0;34m**\u001b[0m\u001b[0;36m1024.0\u001b[0m\u001b[0;34m\u001b[0m\u001b[0m\n\u001b[0m",
      "\u001b[0;31mOverflowError\u001b[0m: (34, 'Result too large')"
     ]
    }
   ],
   "source": [
    "2**1024.0"
   ]
  },
  {
   "cell_type": "code",
   "execution_count": 56,
   "metadata": {
    "collapsed": false
   },
   "outputs": [
    {
     "data": {
      "text/plain": [
       "8.98846567431158e+307"
      ]
     },
     "execution_count": 56,
     "metadata": {},
     "output_type": "execute_result"
    }
   ],
   "source": [
    "2**1023.0"
   ]
  },
  {
   "cell_type": "markdown",
   "metadata": {},
   "source": [
    "Below are two pieces of code that more-or-less do the same thing, namely convert a float to its binary representation."
   ]
  },
  {
   "cell_type": "code",
   "execution_count": 1,
   "metadata": {
    "collapsed": false
   },
   "outputs": [],
   "source": [
    "# from http://stackoverflow.com/questions/16444726/binary-representation-of-float-in-python-bits-not-hex\n",
    "\n",
    "import struct\n",
    "def binary(num):\n",
    "    # Struct can provide us with the float packed into bytes. The '!' ensures that\n",
    "    # it's in network byte order (big-endian) and the 'f' says that it should be\n",
    "    # packed as a float. Alternatively, for double-precision, you could use 'd'.\n",
    "    packed = struct.pack('!d', num)\n",
    "#     print('Packed: %s' % repr(packed))\n",
    "\n",
    "    # For each character in the returned string, we'll turn it into its corresponding\n",
    "    # integer code point\n",
    "    # \n",
    "    # [62, 163, 215, 10] = [ord(c) for c in '>\\xa3\\xd7\\n']\n",
    "#     integers = [ord(c) for c in packed]\n",
    "    integers = [c for c in packed]\n",
    "#     print('Integers: %s' % integers)\n",
    "\n",
    "    # For each integer, we'll convert it to its binary representation.\n",
    "    binaries = [bin(i) for i in integers]\n",
    "#     print('Binaries: %s' % binaries)\n",
    "\n",
    "    # Now strip off the '0b' from each of these\n",
    "    stripped_binaries = [s.replace('0b', '') for s in binaries]\n",
    "#     print('Stripped: %s' % stripped_binaries)\n",
    "\n",
    "    # Pad each byte's binary representation's with 0's to make sure it has all 8 bits:\n",
    "    #\n",
    "    # ['00111110', '10100011', '11010111', '00001010']\n",
    "    padded = [s.rjust(8, '0') for s in stripped_binaries]\n",
    "#     print('Padded: %s' % padded)\n",
    "\n",
    "    # At this point, we have each of the bytes for the network byte ordered float\n",
    "    # in an array as binary strings. Now we just concatenate them to get the total\n",
    "    # representation of the float:\n",
    "    final = ''.join(padded)\n",
    "    \n",
    "    print('Sign: %s' % final[0])\n",
    "    print('Exponent: %s' % final[1:12])\n",
    "    e1023 = \"{:011b}\".format(int(final[1:12],2)-1023)\n",
    "    print('Exponent - 1023: %s' % e1023)\n",
    "    print('Mantissa: %s' % final[12:])\n",
    "    \n",
    "    return final"
   ]
  },
  {
   "cell_type": "code",
   "execution_count": 7,
   "metadata": {
    "collapsed": false
   },
   "outputs": [
    {
     "data": {
      "text/plain": [
       "'0100000000100000000000000000000000000000000000000000000000000000'"
      ]
     },
     "execution_count": 7,
     "metadata": {},
     "output_type": "execute_result"
    }
   ],
   "source": [
    "def float_to_bin(x): # does the same as the above, basically.\n",
    "    x = float(x)\n",
    "    if x == 0:\n",
    "        return \"0\" * 64\n",
    "    w, sign = (float.hex(x), 0) if x > 0 else (float.hex(x)[1:], 1)\n",
    "    mantissa, exp = int(w[4:17], 16), int(w[18:])\n",
    "    return \"{}{:011b}{:052b}\".format(sign, exp + 1023, mantissa)\n",
    "#     print('Sign: %s' % sign)\n",
    "#     print(\"Exponent: %s\" % exp)\n",
    "#     print(\"Mantissa: %s\" % mantissa)\n",
    "\n",
    "float_to_bin(8) "
   ]
  },
  {
   "cell_type": "code",
   "execution_count": 57,
   "metadata": {
    "collapsed": false
   },
   "outputs": [
    {
     "name": "stdout",
     "output_type": "stream",
     "text": [
      "Sign: 0\n",
      "Exponent: 01111111011\n",
      "Exponent - 1023: -0000000100\n",
      "Mantissa: 1001100110011001100110011001100110011001100110011010\n"
     ]
    }
   ],
   "source": [
    "b = binary(0.1)"
   ]
  },
  {
   "cell_type": "code",
   "execution_count": null,
   "metadata": {
    "collapsed": true
   },
   "outputs": [],
   "source": []
  },
  {
   "cell_type": "markdown",
   "metadata": {},
   "source": [
    "#### some take home messages (!!)\n",
    "\n",
    "- numbers are not represented exactly\n",
    "- most calculations are \"wrong\"\n",
    "- when these errors are introduced, **you might not get an error message or warning**\n",
    "- most numbers cannot be represented\n",
    "- even most _integers_ cannot be represented as floating point numbers\n",
    "- there is a biggest number\n",
    "- there is a smallest number\n",
    "- most environments you'll encounter will use IEEE double precision... but others do exist (especially single precision)"
   ]
  },
  {
   "cell_type": "markdown",
   "metadata": {},
   "source": [
    "#### spacing between numbers\n",
    "\n",
    "Imagine you were in the decimal system (not binary), and were using scientific notation but you were only allowed 3 digits after the decimal point. In-class exercise: how large is the _spacing_ between the given number and the _next largest number that we can represent_?\n",
    "\n",
    "1. $1.259$\n",
    "2. $8.982$\n",
    "3. $3.432\\times 10^2$\n",
    "4. $0.001\\times 10^1$\n",
    "\n",
    "Conclusion: we only need to look at the exponent. \n",
    "\n",
    "The same goes for binary. The steps happen at every power of 2 instead of 10, and we have way more digits after the decimal (52 instead of 10), but everything else is pretty much the same.\n",
    "\n",
    "So the spacing size, as a function of the number itself, is a staircase function. \n"
   ]
  },
  {
   "cell_type": "code",
   "execution_count": 20,
   "metadata": {
    "collapsed": false
   },
   "outputs": [
    {
     "data": {
      "text/plain": [
       "[<matplotlib.lines.Line2D at 0x110ea1390>]"
      ]
     },
     "execution_count": 20,
     "metadata": {},
     "output_type": "execute_result"
    },
    {
     "data": {
      "image/png": "[encoded data removed]",
      "text/plain": [
       "<matplotlib.figure.Figure at 0x110cc4240>"
      ]
     },
     "metadata": {},
     "output_type": "display_data"
    }
   ],
   "source": [
    "import numpy as np\n",
    "import matplotlib.pyplot as plt\n",
    "%matplotlib inline\n",
    "\n",
    "x = np.linspace(1,1000,1e5)\n",
    "spacing = 2**np.floor(np.log2(x))\n",
    "plt.plot(x, spacing)"
   ]
  },
  {
   "cell_type": "code",
   "execution_count": 65,
   "metadata": {
    "collapsed": false
   },
   "outputs": [
    {
     "data": {
      "text/plain": [
       "2.220446049250313e-16"
      ]
     },
     "execution_count": 65,
     "metadata": {},
     "output_type": "execute_result"
    }
   ],
   "source": [
    "2**-52"
   ]
  },
  {
   "cell_type": "markdown",
   "metadata": {},
   "source": [
    "The steps get bigger, but the trend is a straight line. In other words, if we zoom out we see that the spacing size is _proportional to the number itself_. "
   ]
  },
  {
   "cell_type": "code",
   "execution_count": 21,
   "metadata": {
    "collapsed": false
   },
   "outputs": [
    {
     "data": {
      "text/plain": [
       "[<matplotlib.lines.Line2D at 0x104031588>]"
      ]
     },
     "execution_count": 21,
     "metadata": {},
     "output_type": "execute_result"
    },
    {
     "data": {
      "image/png": "[encoded data removed]",
      "text/plain": [
       "<matplotlib.figure.Figure at 0x104031630>"
      ]
     },
     "metadata": {},
     "output_type": "display_data"
    }
   ],
   "source": [
    "plt.plot(x, spacing)\n",
    "plt.plot(x,x)"
   ]
  },
  {
   "cell_type": "markdown",
   "metadata": {},
   "source": [
    "We can also look on a log-log scale"
   ]
  },
  {
   "cell_type": "code",
   "execution_count": 23,
   "metadata": {
    "collapsed": false
   },
   "outputs": [
    {
     "data": {
      "text/plain": [
       "[<matplotlib.lines.Line2D at 0x112e2a208>]"
      ]
     },
     "execution_count": 23,
     "metadata": {},
     "output_type": "execute_result"
    },
    {
     "data": {
      "image/png": "[encoded data removed]",
      "text/plain": [
       "<matplotlib.figure.Figure at 0x110edd630>"
      ]
     },
     "metadata": {},
     "output_type": "display_data"
    }
   ],
   "source": [
    "plt.loglog(x,spacing)\n",
    "plt.loglog(x,x)"
   ]
  },
  {
   "cell_type": "markdown",
   "metadata": {},
   "source": [
    "#### order of operations\n",
    "\n",
    "Consider the following:"
   ]
  },
  {
   "cell_type": "code",
   "execution_count": 61,
   "metadata": {
    "collapsed": false
   },
   "outputs": [
    {
     "data": {
      "text/plain": [
       "True"
      ]
     },
     "execution_count": 61,
     "metadata": {},
     "output_type": "execute_result"
    }
   ],
   "source": [
    "1e16 + 1 + 1 == 1e16"
   ]
  },
  {
   "cell_type": "code",
   "execution_count": 59,
   "metadata": {
    "collapsed": false
   },
   "outputs": [
    {
     "data": {
      "text/plain": [
       "False"
      ]
     },
     "execution_count": 59,
     "metadata": {},
     "output_type": "execute_result"
    }
   ],
   "source": [
    "1e16 + 2 == 1e16"
   ]
  },
  {
   "cell_type": "code",
   "execution_count": 62,
   "metadata": {
    "collapsed": false
   },
   "outputs": [
    {
     "data": {
      "text/plain": [
       "True"
      ]
     },
     "execution_count": 62,
     "metadata": {},
     "output_type": "execute_result"
    }
   ],
   "source": [
    "1e40 + 10000000 == 1e40"
   ]
  },
  {
   "cell_type": "code",
   "execution_count": 63,
   "metadata": {
    "collapsed": false
   },
   "outputs": [
    {
     "data": {
      "text/plain": [
       "True"
      ]
     },
     "execution_count": 63,
     "metadata": {},
     "output_type": "execute_result"
    }
   ],
   "source": [
    "1+1e-20 == 1"
   ]
  },
  {
   "cell_type": "markdown",
   "metadata": {},
   "source": [
    "We now understand the above, given our new knowledge. The spacing between $10^{16}$ and the next largest number must be more than 2, so when 1 is added to $10^{16}$ we round back down to $10^{16}$. But consider the below..."
   ]
  },
  {
   "cell_type": "code",
   "execution_count": 2,
   "metadata": {
    "collapsed": false
   },
   "outputs": [
    {
     "data": {
      "text/plain": [
       "False"
      ]
     },
     "execution_count": 2,
     "metadata": {},
     "output_type": "execute_result"
    }
   ],
   "source": [
    "1 + 1 + 1e16 == 1e16"
   ]
  },
  {
   "cell_type": "markdown",
   "metadata": {},
   "source": [
    "What?? But we just said...  but ...\n",
    "\n",
    "This is surprising because we changed the order and got different results. To put it more clearly,"
   ]
  },
  {
   "cell_type": "code",
   "execution_count": 3,
   "metadata": {
    "collapsed": false
   },
   "outputs": [
    {
     "data": {
      "text/plain": [
       "False"
      ]
     },
     "execution_count": 3,
     "metadata": {},
     "output_type": "execute_result"
    }
   ],
   "source": [
    "1e16+1+1 == 1+1+1e16"
   ]
  },
  {
   "cell_type": "markdown",
   "metadata": {},
   "source": [
    "What's happening here is that we do operations from left to right. So when we first do 1+1 we get 2. And I picked $10^{16}$ on purpose so that the spacing is more than 2 but less than 4. So when we add 2 to $10^{16}$ we do get far enough to round _up_ to the next number. In other words, the order of operations doesn't matter on paper, but it can matter in code due to floating point issues. \n",
    "\n",
    "\n",
    "(begin bonus) By the way, what _is_ the spacing at $10^{16}$? We need to find the larest power of 2 that is less than $10^{16}$, which happens to be"
   ]
  },
  {
   "cell_type": "code",
   "execution_count": 13,
   "metadata": {
    "collapsed": false
   },
   "outputs": [
    {
     "data": {
      "text/plain": [
       "9007199254740992.0"
      ]
     },
     "execution_count": 13,
     "metadata": {},
     "output_type": "execute_result"
    }
   ],
   "source": [
    "2.0**53 "
   ]
  },
  {
   "cell_type": "code",
   "execution_count": 14,
   "metadata": {
    "collapsed": false
   },
   "outputs": [
    {
     "data": {
      "text/plain": [
       "'9.0072e+15'"
      ]
     },
     "execution_count": 14,
     "metadata": {},
     "output_type": "execute_result"
    }
   ],
   "source": [
    "# make it easier to read\n",
    "'%g' % 2.0**53"
   ]
  },
  {
   "cell_type": "markdown",
   "metadata": {},
   "source": [
    "Ok this looks good. So now we just need to do $2^{53}\\times 2^{-52}=2$. So the spacing is exactly 2. I guess we round up! (end bonus)"
   ]
  },
  {
   "cell_type": "markdown",
   "metadata": {},
   "source": [
    "#### log-sum-exp\n",
    "\n",
    "In the lab you are asked to implement logistic regression. Here we'll consider the binary classification case. To make things cleaner let's also assume $d=1$. \n",
    "\n",
    "The loss function is "
   ]
  },
  {
   "cell_type": "code",
   "execution_count": 68,
   "metadata": {
    "collapsed": false
   },
   "outputs": [
    {
     "name": "stderr",
     "output_type": "stream",
     "text": [
      "//anaconda/lib/python3.6/site-packages/ipykernel/__main__.py:4: RuntimeWarning: overflow encountered in exp\n"
     ]
    },
    {
     "data": {
      "text/plain": [
       "inf"
      ]
     },
     "execution_count": 68,
     "metadata": {},
     "output_type": "execute_result"
    }
   ],
   "source": [
    "import numpy as np\n",
    "\n",
    "def loss_lr_1D(w, x, y):\n",
    "    return np.sum(np.log(1 + np.exp(-y*w*x)))\n",
    "\n",
    "\n",
    "N = 100\n",
    "x = np.random.randn(N)\n",
    "x[1:10] *= 1e5\n",
    "w = np.random.randn()\n",
    "y = np.random.choice([-1,+1], size=N)\n",
    "\n",
    "loss_lr_1D(w,x,y)"
   ]
  },
  {
   "cell_type": "markdown",
   "metadata": {},
   "source": [
    "What we are doing here?\n",
    "\n",
    "$$\\mathcal{L}(w) =  \\sum_{n=1}^N \\log \\left( 1+ \\exp(-y_nwx_n) \\right) $$\n",
    "\n",
    "The key is that we're computing $\\log(1+\\exp(z))$ and getting an overflow when $z\\gg 1$. \n",
    "\n",
    "(Note: when doing the optimization, we only really need the gradient of the loss, so this isn't a completely realistic concern. But it happens for real for multi-class.)\n",
    "\n",
    "But when $z\\gg1$ we can say $1+\\exp(z)\\approx \\exp(z)$ and in that case  \n",
    "\n",
    "$$\\log(1+\\exp(z))\\approx \\log(\\exp(z)) = z$$\n",
    "\n",
    "We can try it..."
   ]
  },
  {
   "cell_type": "code",
   "execution_count": 69,
   "metadata": {
    "collapsed": false
   },
   "outputs": [
    {
     "name": "stdout",
     "output_type": "stream",
     "text": [
      "0.69314718056\n",
      "0.69314718056\n",
      "110.0\n",
      "110\n",
      "inf\n",
      "1000\n"
     ]
    },
    {
     "name": "stderr",
     "output_type": "stream",
     "text": [
      "//anaconda/lib/python3.6/site-packages/ipykernel/__main__.py:2: RuntimeWarning: overflow encountered in exp\n",
      "  from ipykernel import kernelapp as app\n"
     ]
    }
   ],
   "source": [
    "def log_1_plus_exp(z):\n",
    "    return np.log(1+np.exp(z))\n",
    "\n",
    "def log_1_plus_exp_safe(z):\n",
    "    if z > 100:\n",
    "        return z\n",
    "    else:\n",
    "        return np.log(1+np.exp(z))\n",
    "\n",
    "\n",
    "print(log_1_plus_exp(0))\n",
    "print(log_1_plus_exp_safe(0))\n",
    "\n",
    "print(log_1_plus_exp(110))\n",
    "print(log_1_plus_exp_safe(110))\n",
    "\n",
    "print(log_1_plus_exp(1000))\n",
    "print(log_1_plus_exp_safe(1000))\n"
   ]
  },
  {
   "cell_type": "markdown",
   "metadata": {},
   "source": [
    "(optional) What about underflow?"
   ]
  },
  {
   "cell_type": "code",
   "execution_count": 31,
   "metadata": {
    "collapsed": false
   },
   "outputs": [
    {
     "name": "stdout",
     "output_type": "stream",
     "text": [
      "0.0\n"
     ]
    }
   ],
   "source": [
    "print(log_1_plus_exp(-100))"
   ]
  },
  {
   "cell_type": "markdown",
   "metadata": {},
   "source": [
    "Why? Because"
   ]
  },
  {
   "cell_type": "code",
   "execution_count": 35,
   "metadata": {
    "collapsed": false
   },
   "outputs": [
    {
     "data": {
      "text/plain": [
       "3.7200759760208361e-44"
      ]
     },
     "execution_count": 35,
     "metadata": {},
     "output_type": "execute_result"
    }
   ],
   "source": [
    "np.exp(-100)"
   ]
  },
  {
   "cell_type": "markdown",
   "metadata": {},
   "source": [
    "The above is not zero. Hmm. But..."
   ]
  },
  {
   "cell_type": "code",
   "execution_count": 36,
   "metadata": {
    "collapsed": false
   },
   "outputs": [
    {
     "data": {
      "text/plain": [
       "1.0"
      ]
     },
     "execution_count": 36,
     "metadata": {},
     "output_type": "execute_result"
    }
   ],
   "source": [
    "1+np.exp(-100)"
   ]
  },
  {
   "cell_type": "code",
   "execution_count": 37,
   "metadata": {
    "collapsed": false
   },
   "outputs": [
    {
     "data": {
      "text/plain": [
       "True"
      ]
     },
     "execution_count": 37,
     "metadata": {},
     "output_type": "execute_result"
    }
   ],
   "source": [
    "1+np.exp(-100)==1"
   ]
  },
  {
   "cell_type": "markdown",
   "metadata": {},
   "source": [
    "Aha! The above equals 1. So that's the problem."
   ]
  },
  {
   "cell_type": "markdown",
   "metadata": {},
   "source": [
    "Well, when $z\\ll -1$ then $\\exp(z)$ is very small. Let's call it $\\epsilon$. So we have \n",
    "\n",
    "$$\\log(1+\\epsilon)\\approx \\epsilon$$ for $\\epsilon$ very small (this comes from the Taylor expansion). \n",
    "\n",
    "So now we can say\n",
    "\n",
    "$$\\log(1+\\exp(z))\\approx\\exp(z)$$ when $$z\\ll -1$$. "
   ]
  },
  {
   "cell_type": "code",
   "execution_count": 38,
   "metadata": {
    "collapsed": false
   },
   "outputs": [
    {
     "name": "stdout",
     "output_type": "stream",
     "text": [
      "0.69314718056\n",
      "0.69314718056\n",
      "110.0\n",
      "110\n",
      "inf\n",
      "1000\n",
      "4.53988992169e-05\n",
      "4.53988992169e-05\n",
      "0.0\n",
      "1.68891188022e-48\n",
      "0.0\n",
      "0.0\n"
     ]
    },
    {
     "name": "stderr",
     "output_type": "stream",
     "text": [
      "/Users/mgelbart/anaconda3/lib/python3.5/site-packages/ipykernel/__main__.py:2: RuntimeWarning: overflow encountered in exp\n",
      "  from ipykernel import kernelapp as app\n"
     ]
    }
   ],
   "source": [
    "def log_1_plus_exp_safer(z):\n",
    "    if z > 100:\n",
    "        return z\n",
    "    elif z < -100:\n",
    "        return np.exp(z)\n",
    "    else:\n",
    "        return np.log(1+np.exp(z))"
   ]
  },
  {
   "cell_type": "code",
   "execution_count": 39,
   "metadata": {
    "collapsed": false
   },
   "outputs": [
    {
     "name": "stdout",
     "output_type": "stream",
     "text": [
      "0.69314718056\n",
      "0.69314718056\n"
     ]
    }
   ],
   "source": [
    "# both ok\n",
    "print(log_1_plus_exp(0))\n",
    "print(log_1_plus_exp_safer(0))"
   ]
  },
  {
   "cell_type": "code",
   "execution_count": 40,
   "metadata": {
    "collapsed": false
   },
   "outputs": [
    {
     "name": "stdout",
     "output_type": "stream",
     "text": [
      "110.0\n",
      "110\n"
     ]
    }
   ],
   "source": [
    "# both OK (but approximation is invoked)\n",
    "print(log_1_plus_exp(110))\n",
    "print(log_1_plus_exp_safer(110))"
   ]
  },
  {
   "cell_type": "code",
   "execution_count": 41,
   "metadata": {
    "collapsed": false
   },
   "outputs": [
    {
     "name": "stdout",
     "output_type": "stream",
     "text": [
      "inf\n",
      "1000\n"
     ]
    },
    {
     "name": "stderr",
     "output_type": "stream",
     "text": [
      "/Users/mgelbart/anaconda3/lib/python3.5/site-packages/ipykernel/__main__.py:2: RuntimeWarning: overflow encountered in exp\n",
      "  from ipykernel import kernelapp as app\n"
     ]
    }
   ],
   "source": [
    "# only safer version works\n",
    "print(log_1_plus_exp(1000))\n",
    "print(log_1_plus_exp_safer(1000))"
   ]
  },
  {
   "cell_type": "code",
   "execution_count": 42,
   "metadata": {
    "collapsed": false
   },
   "outputs": [
    {
     "name": "stdout",
     "output_type": "stream",
     "text": [
      "4.53988992169e-05\n",
      "4.53988992169e-05\n"
     ]
    }
   ],
   "source": [
    "# both OK\n",
    "print(log_1_plus_exp(-10))\n",
    "print(log_1_plus_exp_safer(-10))\n"
   ]
  },
  {
   "cell_type": "code",
   "execution_count": 43,
   "metadata": {
    "collapsed": false
   },
   "outputs": [
    {
     "name": "stdout",
     "output_type": "stream",
     "text": [
      "0.0\n",
      "1.68891188022e-48\n"
     ]
    }
   ],
   "source": [
    "# only safer version works\n",
    "print(log_1_plus_exp(-110))\n",
    "print(log_1_plus_exp_safer(-110))\n"
   ]
  },
  {
   "cell_type": "code",
   "execution_count": 44,
   "metadata": {
    "collapsed": false
   },
   "outputs": [
    {
     "name": "stdout",
     "output_type": "stream",
     "text": [
      "0.0\n",
      "0.0\n"
     ]
    }
   ],
   "source": [
    "# both fail\n",
    "print(log_1_plus_exp(-1000))\n",
    "print(log_1_plus_exp_safer(-1000))"
   ]
  },
  {
   "cell_type": "markdown",
   "metadata": {},
   "source": [
    "#### more take-home messages\n",
    "\n",
    "- by combining an understanding of floating point errors and math, we can write better code\n",
    "- this is one (of many) reasons why we use libraries like sklearn rather than implementing things ourself. other reasons: speed, edge cases, updates over time, less likely to contain a bug.\n"
   ]
  },
  {
   "cell_type": "markdown",
   "metadata": {},
   "source": [
    "Using a careful analysis of floating point numbers you can also reason about what the conditions should be. I just picked -100 and 100 arbitrarily. It turns out my choice was imperfect"
   ]
  },
  {
   "cell_type": "code",
   "execution_count": 45,
   "metadata": {
    "collapsed": false
   },
   "outputs": [
    {
     "name": "stdout",
     "output_type": "stream",
     "text": [
      "0.0\n"
     ]
    }
   ],
   "source": [
    "print(log_1_plus_exp_safer(-99))"
   ]
  },
  {
   "cell_type": "markdown",
   "metadata": {},
   "source": [
    "It turns out +100 and -30 are a pretty good choices. These require careful reasoning (beyond the scope here, ask if you're interested)."
   ]
  },
  {
   "cell_type": "markdown",
   "metadata": {
    "collapsed": true
   },
   "source": [
    "#### moving to $d>1$ and multi-class\n",
    "\n",
    "When $d>1$ not much changes, except that your $z$ above is actually a dot product of a $w$-vector and an $x$-vector, so getting big numbers in there starts to be a much bigger problem. The above is then even more important. \n",
    "\n",
    "Imagine $d=1000000$. Even if these numbers look like random noise (both positive and negative, cancelling each other out) by the central limit theorem their sum will grow like $\\sqrt{N}$ and eventually overflow will be a problem. You only need to get to $z=1000$ before problems hit.\n",
    "\n",
    "When the number of classes change then things change more substantially. In particular with $K$ classes the $\\log(1+\\exp(z))$ flavour changes to\n",
    "\n",
    "$$\\log\\left(\\sum_{k=1}^K \\exp(z_k)\\right)$$\n",
    "\n",
    "In that case we play a different trick which is to pull out the max $z_k$. More info [here](https://hips.seas.harvard.edu/blog/2013/01/09/computing-log-sum-exp/) and an optional question in lab."
   ]
  },
  {
   "cell_type": "markdown",
   "metadata": {
    "collapsed": true
   },
   "source": [
    "### inverting matrices\n",
    "\n",
    "Sometime we take the inverse of a matrix. For example:\n",
    "\n",
    "- [DSCI 561 lecture 7](https://github.ubc.ca/ubc-mds-2016/DSCI_561_regr-1_students/blob/master/lectures/lect07_diagnostics.pdf), slide 6\n",
    "- [DSCI 553 lecture 6](https://github.ubc.ca/ubc-mds-2016/DSCI_553_stat-inf-2_students/blob/master/Lecture6scrb.pdf),  slide 5\n",
    "\n",
    "Key point: _this is almost always a bad idea!_\n",
    "\n",
    "- If you actually need the inverse, then you must compute it\n",
    "- But in real situations you almost always need to solve $Ax=b$ given some $b$\n",
    "- In this case, use a solve function to compute this directly, rather than going to $x=A^{-1}b$."
   ]
  },
  {
   "cell_type": "code",
   "execution_count": 70,
   "metadata": {
    "collapsed": false
   },
   "outputs": [],
   "source": [
    "import numpy as np\n",
    "import numpy.linalg as npla\n",
    "\n",
    "A = np.random.rand(3,3) # random 3x3 matrix\n",
    "b = np.random.rand(3)\n",
    "\n",
    "x1 = npla.inv(A) @ b"
   ]
  },
  {
   "cell_type": "code",
   "execution_count": 71,
   "metadata": {
    "collapsed": false
   },
   "outputs": [],
   "source": [
    "x2 = npla.solve(A, b)"
   ]
  },
  {
   "cell_type": "code",
   "execution_count": 72,
   "metadata": {
    "collapsed": false
   },
   "outputs": [
    {
     "data": {
      "text/plain": [
       "True"
      ]
     },
     "execution_count": 72,
     "metadata": {},
     "output_type": "execute_result"
    }
   ],
   "source": [
    "np.allclose(x1,x2) # looks good"
   ]
  },
  {
   "cell_type": "code",
   "execution_count": 76,
   "metadata": {
    "collapsed": true
   },
   "outputs": [],
   "source": [
    "n = 250\n",
    "A = np.vander(np.random.rand(n))\n",
    "b = np.random.rand(n)\n",
    "\n",
    "y1 = npla.inv(A) @ b"
   ]
  },
  {
   "cell_type": "code",
   "execution_count": 77,
   "metadata": {
    "collapsed": false
   },
   "outputs": [],
   "source": [
    "y2 = npla.solve(A,b)"
   ]
  },
  {
   "cell_type": "code",
   "execution_count": 78,
   "metadata": {
    "collapsed": false
   },
   "outputs": [
    {
     "data": {
      "text/plain": [
       "False"
      ]
     },
     "execution_count": 78,
     "metadata": {},
     "output_type": "execute_result"
    }
   ],
   "source": [
    "np.allclose(y1,y2)"
   ]
  },
  {
   "cell_type": "code",
   "execution_count": 79,
   "metadata": {
    "collapsed": false
   },
   "outputs": [
    {
     "data": {
      "text/plain": [
       "5.6760089777294697e+96"
      ]
     },
     "execution_count": 79,
     "metadata": {},
     "output_type": "execute_result"
    }
   ],
   "source": [
    "np.max(y1-y2)"
   ]
  },
  {
   "cell_type": "markdown",
   "metadata": {},
   "source": [
    "What happened??\n",
    "\n",
    "Well, we're not really going to go into this. There are courses on this like CPSC 302 and 402. But, basically, just don't compute the inverse if you don't have to..."
   ]
  },
  {
   "cell_type": "code",
   "execution_count": null,
   "metadata": {
    "collapsed": true
   },
   "outputs": [],
   "source": []
  }
 ],
 "metadata": {
  "anaconda-cloud": {},
  "kernelspec": {
   "display_name": "Python 3",
   "language": "python",
   "name": "python3"
  },
  "language_info": {
   "codemirror_mode": {
    "name": "ipython",
    "version": 3
   },
   "file_extension": ".py",
   "mimetype": "text/x-python",
   "name": "python",
   "nbconvert_exporter": "python",
   "pygments_lexer": "ipython3",
   "version": "3.6.0"
  }
 },
 "nbformat": 4,
 "nbformat_minor": 1
}
